{
 "cells": [
  {
   "cell_type": "code",
   "execution_count": 1,
   "id": "6eeadbf6",
   "metadata": {},
   "outputs": [],
   "source": [
    "# pip3 install scipy rich\n",
    "from advanced_simplex import Simplex\n",
    "from funciones import FuncionObjetivo, ExpresionAlgebraica"
   ]
  },
  {
   "cell_type": "code",
   "execution_count": 2,
   "id": "73eff49f",
   "metadata": {},
   "outputs": [],
   "source": [
    "# Ejecutar simplex para pedir datos al usuario\n",
    "# simplex = Simplex()\n",
    "# simplex()"
   ]
  },
  {
   "cell_type": "code",
   "execution_count": 3,
   "id": "d93720e0",
   "metadata": {},
   "outputs": [
    {
     "data": {
      "text/html": [
       "<pre style=\"white-space:pre;overflow-x:auto;line-height:normal;font-family:Menlo,'DejaVu Sans Mono',consolas,'Courier New',monospace\"><span style=\"font-style: italic\">Maximizar </span><span style=\"color: #000087; text-decoration-color: #000087; font-style: italic\">z = 5 * x1 + 4 * x2 + 0 * s1 + 0 * s2 + 0 * s3 + 0 * s4</span><span style=\"font-style: italic\">              </span>\n",
       "┏━━━━━━━━━━━━━━━━━━━━━━━━━━━┳━━━━━━━━━━━━━━━━━━━━━━━━━━━━━━━━━━━━━━┳━━━━━┳━━━━┓\n",
       "┃<span style=\"font-weight: bold\"> Restricciones             </span>┃<span style=\"font-weight: bold\"> ['x1', 'x2', 's1', 's2', 's3', 's4'] </span>┃<span style=\"font-weight: bold\"> &lt;=&gt; </span>┃<span style=\"font-weight: bold\"> b  </span>┃\n",
       "┡━━━━━━━━━━━━━━━━━━━━━━━━━━━╇━━━━━━━━━━━━━━━━━━━━━━━━━━━━━━━━━━━━━━╇━━━━━╇━━━━┩\n",
       "│<span style=\"color: #0087d7; text-decoration-color: #0087d7\"> 6 * x1 + 4 * x2 + s1 = 24 </span>│<span style=\"color: #008000; text-decoration-color: #008000\">    ['6', '4', '1', '0', '0', '0']    </span>│<span style=\"color: #d70087; text-decoration-color: #d70087\">  =  </span>│<span style=\"color: #008000; text-decoration-color: #008000\"> 24 </span>│\n",
       "│<span style=\"color: #0087d7; text-decoration-color: #0087d7\"> x1 + 2 * x2 + s2 = 6      </span>│<span style=\"color: #008000; text-decoration-color: #008000\">    ['1', '2', '0', '1', '0', '0']    </span>│<span style=\"color: #d70087; text-decoration-color: #d70087\">  =  </span>│<span style=\"color: #008000; text-decoration-color: #008000\"> 6  </span>│\n",
       "│<span style=\"color: #0087d7; text-decoration-color: #0087d7\"> -x1 + x2 + s3 = 1         </span>│<span style=\"color: #008000; text-decoration-color: #008000\">   ['-1', '1', '0', '0', '1', '0']    </span>│<span style=\"color: #d70087; text-decoration-color: #d70087\">  =  </span>│<span style=\"color: #008000; text-decoration-color: #008000\"> 1  </span>│\n",
       "│<span style=\"color: #0087d7; text-decoration-color: #0087d7\"> x2 + s4 = 2               </span>│<span style=\"color: #008000; text-decoration-color: #008000\">    ['0', '1', '0', '0', '0', '1']    </span>│<span style=\"color: #d70087; text-decoration-color: #d70087\">  =  </span>│<span style=\"color: #008000; text-decoration-color: #008000\"> 2  </span>│\n",
       "└───────────────────────────┴──────────────────────────────────────┴─────┴────┘\n",
       "</pre>\n"
      ],
      "text/plain": [
       "\u001b[3mMaximizar \u001b[0m\u001b[3;38;5;18mz = 5 * x1 + 4 * x2 + 0 * s1 + 0 * s2 + 0 * s3 + 0 * s4\u001b[0m\u001b[3m              \u001b[0m\n",
       "┏━━━━━━━━━━━━━━━━━━━━━━━━━━━┳━━━━━━━━━━━━━━━━━━━━━━━━━━━━━━━━━━━━━━┳━━━━━┳━━━━┓\n",
       "┃\u001b[1m \u001b[0m\u001b[1mRestricciones            \u001b[0m\u001b[1m \u001b[0m┃\u001b[1m \u001b[0m\u001b[1m['x1', 'x2', 's1', 's2', 's3', 's4']\u001b[0m\u001b[1m \u001b[0m┃\u001b[1m \u001b[0m\u001b[1m<=>\u001b[0m\u001b[1m \u001b[0m┃\u001b[1m \u001b[0m\u001b[1mb \u001b[0m\u001b[1m \u001b[0m┃\n",
       "┡━━━━━━━━━━━━━━━━━━━━━━━━━━━╇━━━━━━━━━━━━━━━━━━━━━━━━━━━━━━━━━━━━━━╇━━━━━╇━━━━┩\n",
       "│\u001b[38;5;32m \u001b[0m\u001b[38;5;32m6 * x1 + 4 * x2 + s1 = 24\u001b[0m\u001b[38;5;32m \u001b[0m│\u001b[32m \u001b[0m\u001b[32m   ['6', '4', '1', '0', '0', '0']   \u001b[0m\u001b[32m \u001b[0m│\u001b[38;5;162m \u001b[0m\u001b[38;5;162m = \u001b[0m\u001b[38;5;162m \u001b[0m│\u001b[32m \u001b[0m\u001b[32m24\u001b[0m\u001b[32m \u001b[0m│\n",
       "│\u001b[38;5;32m \u001b[0m\u001b[38;5;32mx1 + 2 * x2 + s2 = 6     \u001b[0m\u001b[38;5;32m \u001b[0m│\u001b[32m \u001b[0m\u001b[32m   ['1', '2', '0', '1', '0', '0']   \u001b[0m\u001b[32m \u001b[0m│\u001b[38;5;162m \u001b[0m\u001b[38;5;162m = \u001b[0m\u001b[38;5;162m \u001b[0m│\u001b[32m \u001b[0m\u001b[32m6 \u001b[0m\u001b[32m \u001b[0m│\n",
       "│\u001b[38;5;32m \u001b[0m\u001b[38;5;32m-x1 + x2 + s3 = 1        \u001b[0m\u001b[38;5;32m \u001b[0m│\u001b[32m \u001b[0m\u001b[32m  ['-1', '1', '0', '0', '1', '0']   \u001b[0m\u001b[32m \u001b[0m│\u001b[38;5;162m \u001b[0m\u001b[38;5;162m = \u001b[0m\u001b[38;5;162m \u001b[0m│\u001b[32m \u001b[0m\u001b[32m1 \u001b[0m\u001b[32m \u001b[0m│\n",
       "│\u001b[38;5;32m \u001b[0m\u001b[38;5;32mx2 + s4 = 2              \u001b[0m\u001b[38;5;32m \u001b[0m│\u001b[32m \u001b[0m\u001b[32m   ['0', '1', '0', '0', '0', '1']   \u001b[0m\u001b[32m \u001b[0m│\u001b[38;5;162m \u001b[0m\u001b[38;5;162m = \u001b[0m\u001b[38;5;162m \u001b[0m│\u001b[32m \u001b[0m\u001b[32m2 \u001b[0m\u001b[32m \u001b[0m│\n",
       "└───────────────────────────┴──────────────────────────────────────┴─────┴────┘\n"
      ]
     },
     "metadata": {},
     "output_type": "display_data"
    },
    {
     "data": {
      "text/html": [
       "<pre style=\"white-space:pre;overflow-x:auto;line-height:normal;font-family:Menlo,'DejaVu Sans Mono',consolas,'Courier New',monospace\"><span style=\"font-style: italic\">           Preparación de datos            </span>\n",
       "┏━━━━━━━━━━━━━━━━━━━━━━━━━━━━━━━━━━━┳━━━━━┓\n",
       "┃<span style=\"font-weight: bold\"> A                                 </span>┃<span style=\"font-weight: bold\">   b </span>┃\n",
       "┡━━━━━━━━━━━━━━━━━━━━━━━━━━━━━━━━━━━╇━━━━━┩\n",
       "│<span style=\"color: #0087d7; text-decoration-color: #0087d7\"> ['6', '4', '1', '0', '0', '0']    </span>│<span style=\"color: #0087d7; text-decoration-color: #0087d7\">  24 </span>│\n",
       "│<span style=\"color: #0087d7; text-decoration-color: #0087d7\"> ['-6', '-4', '-1', '0', '0', '0'] </span>│<span style=\"color: #0087d7; text-decoration-color: #0087d7\"> -24 </span>│\n",
       "│<span style=\"color: #0087d7; text-decoration-color: #0087d7\"> ['1', '2', '0', '1', '0', '0']    </span>│<span style=\"color: #0087d7; text-decoration-color: #0087d7\">   6 </span>│\n",
       "│<span style=\"color: #0087d7; text-decoration-color: #0087d7\"> ['-1', '-2', '0', '-1', '0', '0'] </span>│<span style=\"color: #0087d7; text-decoration-color: #0087d7\">  -6 </span>│\n",
       "│<span style=\"color: #0087d7; text-decoration-color: #0087d7\"> ['-1', '1', '0', '0', '1', '0']   </span>│<span style=\"color: #0087d7; text-decoration-color: #0087d7\">   1 </span>│\n",
       "│<span style=\"color: #0087d7; text-decoration-color: #0087d7\"> ['1', '-1', '0', '0', '-1', '0']  </span>│<span style=\"color: #0087d7; text-decoration-color: #0087d7\">  -1 </span>│\n",
       "│<span style=\"color: #0087d7; text-decoration-color: #0087d7\"> ['0', '1', '0', '0', '0', '1']    </span>│<span style=\"color: #0087d7; text-decoration-color: #0087d7\">   2 </span>│\n",
       "│<span style=\"color: #0087d7; text-decoration-color: #0087d7\"> ['0', '-1', '0', '0', '0', '-1']  </span>│<span style=\"color: #0087d7; text-decoration-color: #0087d7\">  -2 </span>│\n",
       "├───────────────────────────────────┼─────┤\n",
       "│<span style=\"color: #0087d7; text-decoration-color: #0087d7\"> ['-5', '-4', '0', '0', '0', '0']  </span>│<span style=\"color: #0087d7; text-decoration-color: #0087d7\">   0 </span>│\n",
       "└───────────────────────────────────┴─────┘\n",
       "</pre>\n"
      ],
      "text/plain": [
       "\u001b[3m           Preparación de datos            \u001b[0m\n",
       "┏━━━━━━━━━━━━━━━━━━━━━━━━━━━━━━━━━━━┳━━━━━┓\n",
       "┃\u001b[1m \u001b[0m\u001b[1mA                                \u001b[0m\u001b[1m \u001b[0m┃\u001b[1m \u001b[0m\u001b[1m  b\u001b[0m\u001b[1m \u001b[0m┃\n",
       "┡━━━━━━━━━━━━━━━━━━━━━━━━━━━━━━━━━━━╇━━━━━┩\n",
       "│\u001b[38;5;32m \u001b[0m\u001b[38;5;32m['6', '4', '1', '0', '0', '0']   \u001b[0m\u001b[38;5;32m \u001b[0m│\u001b[38;5;32m \u001b[0m\u001b[38;5;32m 24\u001b[0m\u001b[38;5;32m \u001b[0m│\n",
       "│\u001b[38;5;32m \u001b[0m\u001b[38;5;32m['-6', '-4', '-1', '0', '0', '0']\u001b[0m\u001b[38;5;32m \u001b[0m│\u001b[38;5;32m \u001b[0m\u001b[38;5;32m-24\u001b[0m\u001b[38;5;32m \u001b[0m│\n",
       "│\u001b[38;5;32m \u001b[0m\u001b[38;5;32m['1', '2', '0', '1', '0', '0']   \u001b[0m\u001b[38;5;32m \u001b[0m│\u001b[38;5;32m \u001b[0m\u001b[38;5;32m  6\u001b[0m\u001b[38;5;32m \u001b[0m│\n",
       "│\u001b[38;5;32m \u001b[0m\u001b[38;5;32m['-1', '-2', '0', '-1', '0', '0']\u001b[0m\u001b[38;5;32m \u001b[0m│\u001b[38;5;32m \u001b[0m\u001b[38;5;32m -6\u001b[0m\u001b[38;5;32m \u001b[0m│\n",
       "│\u001b[38;5;32m \u001b[0m\u001b[38;5;32m['-1', '1', '0', '0', '1', '0']  \u001b[0m\u001b[38;5;32m \u001b[0m│\u001b[38;5;32m \u001b[0m\u001b[38;5;32m  1\u001b[0m\u001b[38;5;32m \u001b[0m│\n",
       "│\u001b[38;5;32m \u001b[0m\u001b[38;5;32m['1', '-1', '0', '0', '-1', '0'] \u001b[0m\u001b[38;5;32m \u001b[0m│\u001b[38;5;32m \u001b[0m\u001b[38;5;32m -1\u001b[0m\u001b[38;5;32m \u001b[0m│\n",
       "│\u001b[38;5;32m \u001b[0m\u001b[38;5;32m['0', '1', '0', '0', '0', '1']   \u001b[0m\u001b[38;5;32m \u001b[0m│\u001b[38;5;32m \u001b[0m\u001b[38;5;32m  2\u001b[0m\u001b[38;5;32m \u001b[0m│\n",
       "│\u001b[38;5;32m \u001b[0m\u001b[38;5;32m['0', '-1', '0', '0', '0', '-1'] \u001b[0m\u001b[38;5;32m \u001b[0m│\u001b[38;5;32m \u001b[0m\u001b[38;5;32m -2\u001b[0m\u001b[38;5;32m \u001b[0m│\n",
       "├───────────────────────────────────┼─────┤\n",
       "│\u001b[38;5;32m \u001b[0m\u001b[38;5;32m['-5', '-4', '0', '0', '0', '0'] \u001b[0m\u001b[38;5;32m \u001b[0m│\u001b[38;5;32m \u001b[0m\u001b[38;5;32m  0\u001b[0m\u001b[38;5;32m \u001b[0m│\n",
       "└───────────────────────────────────┴─────┘\n"
      ]
     },
     "metadata": {},
     "output_type": "display_data"
    },
    {
     "data": {
      "text/html": [
       "<pre style=\"white-space:pre;overflow-x:auto;line-height:normal;font-family:Menlo,'DejaVu Sans Mono',consolas,'Courier New',monospace\"><span style=\"font-style: italic\">          Resultados           </span>\n",
       "┏━━━━━━━━━━━┳━━━━━━━━━━━━━━━━━┓\n",
       "┃<span style=\"font-weight: bold\"> Variables </span>┃<span style=\"font-weight: bold\"> Valores óptimos </span>┃\n",
       "┡━━━━━━━━━━━╇━━━━━━━━━━━━━━━━━┩\n",
       "│<span style=\"color: #800080; text-decoration-color: #800080\">     z     </span>│<span style=\"color: #008000; text-decoration-color: #008000\"> 21              </span>│\n",
       "│<span style=\"color: #800080; text-decoration-color: #800080\">    x1     </span>│<span style=\"color: #008000; text-decoration-color: #008000\"> 3               </span>│\n",
       "│<span style=\"color: #800080; text-decoration-color: #800080\">    x2     </span>│<span style=\"color: #008000; text-decoration-color: #008000\"> 1.5             </span>│\n",
       "│<span style=\"color: #800080; text-decoration-color: #800080\">    s1     </span>│<span style=\"color: #008000; text-decoration-color: #008000\"> 0               </span>│\n",
       "│<span style=\"color: #800080; text-decoration-color: #800080\">    s2     </span>│<span style=\"color: #008000; text-decoration-color: #008000\"> 0               </span>│\n",
       "│<span style=\"color: #800080; text-decoration-color: #800080\">    s3     </span>│<span style=\"color: #008000; text-decoration-color: #008000\"> 2.5             </span>│\n",
       "│<span style=\"color: #800080; text-decoration-color: #800080\">    s4     </span>│<span style=\"color: #008000; text-decoration-color: #008000\"> 0.5             </span>│\n",
       "└───────────┴─────────────────┘\n",
       "</pre>\n"
      ],
      "text/plain": [
       "\u001b[3m          Resultados           \u001b[0m\n",
       "┏━━━━━━━━━━━┳━━━━━━━━━━━━━━━━━┓\n",
       "┃\u001b[1m \u001b[0m\u001b[1mVariables\u001b[0m\u001b[1m \u001b[0m┃\u001b[1m \u001b[0m\u001b[1mValores óptimos\u001b[0m\u001b[1m \u001b[0m┃\n",
       "┡━━━━━━━━━━━╇━━━━━━━━━━━━━━━━━┩\n",
       "│\u001b[35m \u001b[0m\u001b[35m    z    \u001b[0m\u001b[35m \u001b[0m│\u001b[32m \u001b[0m\u001b[32m21             \u001b[0m\u001b[32m \u001b[0m│\n",
       "│\u001b[35m \u001b[0m\u001b[35m   x1    \u001b[0m\u001b[35m \u001b[0m│\u001b[32m \u001b[0m\u001b[32m3              \u001b[0m\u001b[32m \u001b[0m│\n",
       "│\u001b[35m \u001b[0m\u001b[35m   x2    \u001b[0m\u001b[35m \u001b[0m│\u001b[32m \u001b[0m\u001b[32m1.5            \u001b[0m\u001b[32m \u001b[0m│\n",
       "│\u001b[35m \u001b[0m\u001b[35m   s1    \u001b[0m\u001b[35m \u001b[0m│\u001b[32m \u001b[0m\u001b[32m0              \u001b[0m\u001b[32m \u001b[0m│\n",
       "│\u001b[35m \u001b[0m\u001b[35m   s2    \u001b[0m\u001b[35m \u001b[0m│\u001b[32m \u001b[0m\u001b[32m0              \u001b[0m\u001b[32m \u001b[0m│\n",
       "│\u001b[35m \u001b[0m\u001b[35m   s3    \u001b[0m\u001b[35m \u001b[0m│\u001b[32m \u001b[0m\u001b[32m2.5            \u001b[0m\u001b[32m \u001b[0m│\n",
       "│\u001b[35m \u001b[0m\u001b[35m   s4    \u001b[0m\u001b[35m \u001b[0m│\u001b[32m \u001b[0m\u001b[32m0.5            \u001b[0m\u001b[32m \u001b[0m│\n",
       "└───────────┴─────────────────┘\n"
      ]
     },
     "metadata": {},
     "output_type": "display_data"
    }
   ],
   "source": [
    "# Ejecución por datos\n",
    "\n",
    "simplex = Simplex(\n",
    "    numero_de_variables=6,\n",
    "    funcion_objetivo=FuncionObjetivo(\"z = 5*x1 + 4*x2 + 0s1 +0s2 +0s3+0s4\"),\n",
    "    metodo=Simplex.MAXIMIZAR,\n",
    "    restricciones=[\n",
    "        ExpresionAlgebraica(\"6x1 + 4x2 + s1 = 24\"),\n",
    "        ExpresionAlgebraica(\"x1 + 2x2 + s2 = 6\"),\n",
    "        ExpresionAlgebraica(\"-x1 + x2 + s3 = 1\"),\n",
    "        ExpresionAlgebraica(\"x2 + s4 = 2\")\n",
    "    ]\n",
    ")\n",
    "simplex.resolver_problema()\n",
    "simplex.mostrar_resultados()"
   ]
  },
  {
   "cell_type": "code",
   "execution_count": 4,
   "id": "502916c1",
   "metadata": {},
   "outputs": [
    {
     "data": {
      "text/html": [
       "<pre style=\"white-space:pre;overflow-x:auto;line-height:normal;font-family:Menlo,'DejaVu Sans Mono',consolas,'Courier New',monospace\"><span style=\"font-style: italic\">Maximizar </span><span style=\"color: #000087; text-decoration-color: #000087; font-style: italic\">z = 16 * x1 + 10 * x2 + 12 * x3 + 13 * x4 + 26 * x5 + 20 * x6 + 30 * x7 + 21 * x8 + 22 * x9 + 15 * x10 + </span>\n",
       "<span style=\"color: #000087; text-decoration-color: #000087; font-style: italic\">23 * x11 + 14 * x12</span><span style=\"font-style: italic\">                                                                                                </span>\n",
       "┏━━━━━━━━━━━━━━━━━━━━━━━━━━━━┳━━━━━━━━━━━━━━━━━━━━━━━━━━━━━━━━━━━━━━━━━━━━━━━━━━━━━━━━━━━━━━━━━━━━━━━━━┳━━━━━┳━━━━┓\n",
       "┃<span style=\"font-weight: bold\">                            </span>┃<span style=\"font-weight: bold\">  ['x1', 'x2', 'x3', 'x4', 'x5', 'x6', 'x7', 'x8', 'x9', 'x10', 'x11',   </span>┃<span style=\"font-weight: bold\">     </span>┃<span style=\"font-weight: bold\">    </span>┃\n",
       "┃<span style=\"font-weight: bold\"> Restricciones              </span>┃<span style=\"font-weight: bold\">                                 'x12']                                  </span>┃<span style=\"font-weight: bold\"> &lt;=&gt; </span>┃<span style=\"font-weight: bold\"> b  </span>┃\n",
       "┡━━━━━━━━━━━━━━━━━━━━━━━━━━━━╇━━━━━━━━━━━━━━━━━━━━━━━━━━━━━━━━━━━━━━━━━━━━━━━━━━━━━━━━━━━━━━━━━━━━━━━━━╇━━━━━╇━━━━┩\n",
       "│<span style=\"color: #0087d7; text-decoration-color: #0087d7\"> x1 + x2 + x3 + x4 &lt;= 30    </span>│<span style=\"color: #008000; text-decoration-color: #008000\">      ['1', '1', '1', '1', '0', '0', '0', '0', '0', '0', '0', '0']       </span>│<span style=\"color: #d70087; text-decoration-color: #d70087\"> &lt;=  </span>│<span style=\"color: #008000; text-decoration-color: #008000\"> 30 </span>│\n",
       "│<span style=\"color: #0087d7; text-decoration-color: #0087d7\"> x5 + x6 + x7 + x8 &lt;= 15    </span>│<span style=\"color: #008000; text-decoration-color: #008000\">      ['0', '0', '0', '0', '1', '1', '1', '1', '0', '0', '0', '0']       </span>│<span style=\"color: #d70087; text-decoration-color: #d70087\"> &lt;=  </span>│<span style=\"color: #008000; text-decoration-color: #008000\"> 15 </span>│\n",
       "│<span style=\"color: #0087d7; text-decoration-color: #0087d7\"> x9 + x10 + x11 + x12 &lt;= 25 </span>│<span style=\"color: #008000; text-decoration-color: #008000\">      ['0', '0', '0', '0', '0', '0', '0', '0', '1', '1', '1', '1']       </span>│<span style=\"color: #d70087; text-decoration-color: #d70087\"> &lt;=  </span>│<span style=\"color: #008000; text-decoration-color: #008000\"> 25 </span>│\n",
       "│<span style=\"color: #0087d7; text-decoration-color: #0087d7\"> x1 + x5 + x9 &gt;= 15         </span>│<span style=\"color: #008000; text-decoration-color: #008000\">      ['1', '0', '0', '0', '1', '0', '0', '0', '1', '0', '0', '0']       </span>│<span style=\"color: #d70087; text-decoration-color: #d70087\"> &gt;=  </span>│<span style=\"color: #008000; text-decoration-color: #008000\"> 15 </span>│\n",
       "│<span style=\"color: #0087d7; text-decoration-color: #0087d7\"> x2 + x6 + x10 &gt;= 25        </span>│<span style=\"color: #008000; text-decoration-color: #008000\">      ['0', '1', '0', '0', '0', '1', '0', '0', '0', '1', '0', '0']       </span>│<span style=\"color: #d70087; text-decoration-color: #d70087\"> &gt;=  </span>│<span style=\"color: #008000; text-decoration-color: #008000\"> 25 </span>│\n",
       "│<span style=\"color: #0087d7; text-decoration-color: #0087d7\"> x3 + x7 + x11 &gt;= 10        </span>│<span style=\"color: #008000; text-decoration-color: #008000\">      ['0', '0', '1', '0', '0', '0', '1', '0', '0', '0', '1', '0']       </span>│<span style=\"color: #d70087; text-decoration-color: #d70087\"> &gt;=  </span>│<span style=\"color: #008000; text-decoration-color: #008000\"> 10 </span>│\n",
       "│<span style=\"color: #0087d7; text-decoration-color: #0087d7\"> x4 + x8 + x12 &gt;= 20        </span>│<span style=\"color: #008000; text-decoration-color: #008000\">      ['0', '0', '0', '1', '0', '0', '0', '1', '0', '0', '0', '1']       </span>│<span style=\"color: #d70087; text-decoration-color: #d70087\"> &gt;=  </span>│<span style=\"color: #008000; text-decoration-color: #008000\"> 20 </span>│\n",
       "└────────────────────────────┴─────────────────────────────────────────────────────────────────────────┴─────┴────┘\n",
       "</pre>\n"
      ],
      "text/plain": [
       "\u001b[3mMaximizar \u001b[0m\u001b[3;38;5;18mz = 16 * x1 + 10 * x2 + 12 * x3 + 13 * x4 + 26 * x5 + 20 * x6 + 30 * x7 + 21 * x8 + 22 * x9 + 15 * x10 + \u001b[0m\n",
       "\u001b[3;38;5;18m23 * x11 + 14 * x12\u001b[0m\u001b[3m                                                                                                \u001b[0m\n",
       "┏━━━━━━━━━━━━━━━━━━━━━━━━━━━━┳━━━━━━━━━━━━━━━━━━━━━━━━━━━━━━━━━━━━━━━━━━━━━━━━━━━━━━━━━━━━━━━━━━━━━━━━━┳━━━━━┳━━━━┓\n",
       "┃\u001b[1m                            \u001b[0m┃\u001b[1m \u001b[0m\u001b[1m ['x1', 'x2', 'x3', 'x4', 'x5', 'x6', 'x7', 'x8', 'x9', 'x10', 'x11',  \u001b[0m\u001b[1m \u001b[0m┃\u001b[1m     \u001b[0m┃\u001b[1m    \u001b[0m┃\n",
       "┃\u001b[1m \u001b[0m\u001b[1mRestricciones             \u001b[0m\u001b[1m \u001b[0m┃\u001b[1m \u001b[0m\u001b[1m                                'x12']                                 \u001b[0m\u001b[1m \u001b[0m┃\u001b[1m \u001b[0m\u001b[1m<=>\u001b[0m\u001b[1m \u001b[0m┃\u001b[1m \u001b[0m\u001b[1mb \u001b[0m\u001b[1m \u001b[0m┃\n",
       "┡━━━━━━━━━━━━━━━━━━━━━━━━━━━━╇━━━━━━━━━━━━━━━━━━━━━━━━━━━━━━━━━━━━━━━━━━━━━━━━━━━━━━━━━━━━━━━━━━━━━━━━━╇━━━━━╇━━━━┩\n",
       "│\u001b[38;5;32m \u001b[0m\u001b[38;5;32mx1 + x2 + x3 + x4 <= 30   \u001b[0m\u001b[38;5;32m \u001b[0m│\u001b[32m \u001b[0m\u001b[32m     ['1', '1', '1', '1', '0', '0', '0', '0', '0', '0', '0', '0']      \u001b[0m\u001b[32m \u001b[0m│\u001b[38;5;162m \u001b[0m\u001b[38;5;162m<= \u001b[0m\u001b[38;5;162m \u001b[0m│\u001b[32m \u001b[0m\u001b[32m30\u001b[0m\u001b[32m \u001b[0m│\n",
       "│\u001b[38;5;32m \u001b[0m\u001b[38;5;32mx5 + x6 + x7 + x8 <= 15   \u001b[0m\u001b[38;5;32m \u001b[0m│\u001b[32m \u001b[0m\u001b[32m     ['0', '0', '0', '0', '1', '1', '1', '1', '0', '0', '0', '0']      \u001b[0m\u001b[32m \u001b[0m│\u001b[38;5;162m \u001b[0m\u001b[38;5;162m<= \u001b[0m\u001b[38;5;162m \u001b[0m│\u001b[32m \u001b[0m\u001b[32m15\u001b[0m\u001b[32m \u001b[0m│\n",
       "│\u001b[38;5;32m \u001b[0m\u001b[38;5;32mx9 + x10 + x11 + x12 <= 25\u001b[0m\u001b[38;5;32m \u001b[0m│\u001b[32m \u001b[0m\u001b[32m     ['0', '0', '0', '0', '0', '0', '0', '0', '1', '1', '1', '1']      \u001b[0m\u001b[32m \u001b[0m│\u001b[38;5;162m \u001b[0m\u001b[38;5;162m<= \u001b[0m\u001b[38;5;162m \u001b[0m│\u001b[32m \u001b[0m\u001b[32m25\u001b[0m\u001b[32m \u001b[0m│\n",
       "│\u001b[38;5;32m \u001b[0m\u001b[38;5;32mx1 + x5 + x9 >= 15        \u001b[0m\u001b[38;5;32m \u001b[0m│\u001b[32m \u001b[0m\u001b[32m     ['1', '0', '0', '0', '1', '0', '0', '0', '1', '0', '0', '0']      \u001b[0m\u001b[32m \u001b[0m│\u001b[38;5;162m \u001b[0m\u001b[38;5;162m>= \u001b[0m\u001b[38;5;162m \u001b[0m│\u001b[32m \u001b[0m\u001b[32m15\u001b[0m\u001b[32m \u001b[0m│\n",
       "│\u001b[38;5;32m \u001b[0m\u001b[38;5;32mx2 + x6 + x10 >= 25       \u001b[0m\u001b[38;5;32m \u001b[0m│\u001b[32m \u001b[0m\u001b[32m     ['0', '1', '0', '0', '0', '1', '0', '0', '0', '1', '0', '0']      \u001b[0m\u001b[32m \u001b[0m│\u001b[38;5;162m \u001b[0m\u001b[38;5;162m>= \u001b[0m\u001b[38;5;162m \u001b[0m│\u001b[32m \u001b[0m\u001b[32m25\u001b[0m\u001b[32m \u001b[0m│\n",
       "│\u001b[38;5;32m \u001b[0m\u001b[38;5;32mx3 + x7 + x11 >= 10       \u001b[0m\u001b[38;5;32m \u001b[0m│\u001b[32m \u001b[0m\u001b[32m     ['0', '0', '1', '0', '0', '0', '1', '0', '0', '0', '1', '0']      \u001b[0m\u001b[32m \u001b[0m│\u001b[38;5;162m \u001b[0m\u001b[38;5;162m>= \u001b[0m\u001b[38;5;162m \u001b[0m│\u001b[32m \u001b[0m\u001b[32m10\u001b[0m\u001b[32m \u001b[0m│\n",
       "│\u001b[38;5;32m \u001b[0m\u001b[38;5;32mx4 + x8 + x12 >= 20       \u001b[0m\u001b[38;5;32m \u001b[0m│\u001b[32m \u001b[0m\u001b[32m     ['0', '0', '0', '1', '0', '0', '0', '1', '0', '0', '0', '1']      \u001b[0m\u001b[32m \u001b[0m│\u001b[38;5;162m \u001b[0m\u001b[38;5;162m>= \u001b[0m\u001b[38;5;162m \u001b[0m│\u001b[32m \u001b[0m\u001b[32m20\u001b[0m\u001b[32m \u001b[0m│\n",
       "└────────────────────────────┴─────────────────────────────────────────────────────────────────────────┴─────┴────┘\n"
      ]
     },
     "metadata": {},
     "output_type": "display_data"
    },
    {
     "data": {
      "text/html": [
       "<pre style=\"white-space:pre;overflow-x:auto;line-height:normal;font-family:Menlo,'DejaVu Sans Mono',consolas,'Courier New',monospace\"><span style=\"font-style: italic\">                                     Preparación de datos                                     </span>\n",
       "┏━━━━━━━━━━━━━━━━━━━━━━━━━━━━━━━━━━━━━━━━━━━━━━━━━━━━━━━━━━━━━━━━━━━━━━━━━━━━━━━━━━━━━━┳━━━━━┓\n",
       "┃<span style=\"font-weight: bold\"> A                                                                                    </span>┃<span style=\"font-weight: bold\">   b </span>┃\n",
       "┡━━━━━━━━━━━━━━━━━━━━━━━━━━━━━━━━━━━━━━━━━━━━━━━━━━━━━━━━━━━━━━━━━━━━━━━━━━━━━━━━━━━━━━╇━━━━━┩\n",
       "│<span style=\"color: #0087d7; text-decoration-color: #0087d7\"> ['1', '1', '1', '1', '0', '0', '0', '0', '0', '0', '0', '0']                         </span>│<span style=\"color: #0087d7; text-decoration-color: #0087d7\">  30 </span>│\n",
       "│<span style=\"color: #0087d7; text-decoration-color: #0087d7\"> ['0', '0', '0', '0', '1', '1', '1', '1', '0', '0', '0', '0']                         </span>│<span style=\"color: #0087d7; text-decoration-color: #0087d7\">  15 </span>│\n",
       "│<span style=\"color: #0087d7; text-decoration-color: #0087d7\"> ['0', '0', '0', '0', '0', '0', '0', '0', '1', '1', '1', '1']                         </span>│<span style=\"color: #0087d7; text-decoration-color: #0087d7\">  25 </span>│\n",
       "│<span style=\"color: #0087d7; text-decoration-color: #0087d7\"> ['-1', '0', '0', '0', '-1', '0', '0', '0', '-1', '0', '0', '0']                      </span>│<span style=\"color: #0087d7; text-decoration-color: #0087d7\"> -15 </span>│\n",
       "│<span style=\"color: #0087d7; text-decoration-color: #0087d7\"> ['0', '-1', '0', '0', '0', '-1', '0', '0', '0', '-1', '0', '0']                      </span>│<span style=\"color: #0087d7; text-decoration-color: #0087d7\"> -25 </span>│\n",
       "│<span style=\"color: #0087d7; text-decoration-color: #0087d7\"> ['0', '0', '-1', '0', '0', '0', '-1', '0', '0', '0', '-1', '0']                      </span>│<span style=\"color: #0087d7; text-decoration-color: #0087d7\"> -10 </span>│\n",
       "│<span style=\"color: #0087d7; text-decoration-color: #0087d7\"> ['0', '0', '0', '-1', '0', '0', '0', '-1', '0', '0', '0', '-1']                      </span>│<span style=\"color: #0087d7; text-decoration-color: #0087d7\"> -20 </span>│\n",
       "├──────────────────────────────────────────────────────────────────────────────────────┼─────┤\n",
       "│<span style=\"color: #0087d7; text-decoration-color: #0087d7\"> ['-16', '-10', '-12', '-13', '-26', '-20', '-30', '-21', '-22', '-15', '-23', '-14'] </span>│<span style=\"color: #0087d7; text-decoration-color: #0087d7\">   0 </span>│\n",
       "└──────────────────────────────────────────────────────────────────────────────────────┴─────┘\n",
       "</pre>\n"
      ],
      "text/plain": [
       "\u001b[3m                                     Preparación de datos                                     \u001b[0m\n",
       "┏━━━━━━━━━━━━━━━━━━━━━━━━━━━━━━━━━━━━━━━━━━━━━━━━━━━━━━━━━━━━━━━━━━━━━━━━━━━━━━━━━━━━━━┳━━━━━┓\n",
       "┃\u001b[1m \u001b[0m\u001b[1mA                                                                                   \u001b[0m\u001b[1m \u001b[0m┃\u001b[1m \u001b[0m\u001b[1m  b\u001b[0m\u001b[1m \u001b[0m┃\n",
       "┡━━━━━━━━━━━━━━━━━━━━━━━━━━━━━━━━━━━━━━━━━━━━━━━━━━━━━━━━━━━━━━━━━━━━━━━━━━━━━━━━━━━━━━╇━━━━━┩\n",
       "│\u001b[38;5;32m \u001b[0m\u001b[38;5;32m['1', '1', '1', '1', '0', '0', '0', '0', '0', '0', '0', '0']                        \u001b[0m\u001b[38;5;32m \u001b[0m│\u001b[38;5;32m \u001b[0m\u001b[38;5;32m 30\u001b[0m\u001b[38;5;32m \u001b[0m│\n",
       "│\u001b[38;5;32m \u001b[0m\u001b[38;5;32m['0', '0', '0', '0', '1', '1', '1', '1', '0', '0', '0', '0']                        \u001b[0m\u001b[38;5;32m \u001b[0m│\u001b[38;5;32m \u001b[0m\u001b[38;5;32m 15\u001b[0m\u001b[38;5;32m \u001b[0m│\n",
       "│\u001b[38;5;32m \u001b[0m\u001b[38;5;32m['0', '0', '0', '0', '0', '0', '0', '0', '1', '1', '1', '1']                        \u001b[0m\u001b[38;5;32m \u001b[0m│\u001b[38;5;32m \u001b[0m\u001b[38;5;32m 25\u001b[0m\u001b[38;5;32m \u001b[0m│\n",
       "│\u001b[38;5;32m \u001b[0m\u001b[38;5;32m['-1', '0', '0', '0', '-1', '0', '0', '0', '-1', '0', '0', '0']                     \u001b[0m\u001b[38;5;32m \u001b[0m│\u001b[38;5;32m \u001b[0m\u001b[38;5;32m-15\u001b[0m\u001b[38;5;32m \u001b[0m│\n",
       "│\u001b[38;5;32m \u001b[0m\u001b[38;5;32m['0', '-1', '0', '0', '0', '-1', '0', '0', '0', '-1', '0', '0']                     \u001b[0m\u001b[38;5;32m \u001b[0m│\u001b[38;5;32m \u001b[0m\u001b[38;5;32m-25\u001b[0m\u001b[38;5;32m \u001b[0m│\n",
       "│\u001b[38;5;32m \u001b[0m\u001b[38;5;32m['0', '0', '-1', '0', '0', '0', '-1', '0', '0', '0', '-1', '0']                     \u001b[0m\u001b[38;5;32m \u001b[0m│\u001b[38;5;32m \u001b[0m\u001b[38;5;32m-10\u001b[0m\u001b[38;5;32m \u001b[0m│\n",
       "│\u001b[38;5;32m \u001b[0m\u001b[38;5;32m['0', '0', '0', '-1', '0', '0', '0', '-1', '0', '0', '0', '-1']                     \u001b[0m\u001b[38;5;32m \u001b[0m│\u001b[38;5;32m \u001b[0m\u001b[38;5;32m-20\u001b[0m\u001b[38;5;32m \u001b[0m│\n",
       "├──────────────────────────────────────────────────────────────────────────────────────┼─────┤\n",
       "│\u001b[38;5;32m \u001b[0m\u001b[38;5;32m['-16', '-10', '-12', '-13', '-26', '-20', '-30', '-21', '-22', '-15', '-23', '-14']\u001b[0m\u001b[38;5;32m \u001b[0m│\u001b[38;5;32m \u001b[0m\u001b[38;5;32m  0\u001b[0m\u001b[38;5;32m \u001b[0m│\n",
       "└──────────────────────────────────────────────────────────────────────────────────────┴─────┘\n"
      ]
     },
     "metadata": {},
     "output_type": "display_data"
    },
    {
     "data": {
      "text/html": [
       "<pre style=\"white-space:pre;overflow-x:auto;line-height:normal;font-family:Menlo,'DejaVu Sans Mono',consolas,'Courier New',monospace\"><span style=\"font-style: italic\">          Resultados           </span>\n",
       "┏━━━━━━━━━━━┳━━━━━━━━━━━━━━━━━┓\n",
       "┃<span style=\"font-weight: bold\"> Variables </span>┃<span style=\"font-weight: bold\"> Valores óptimos </span>┃\n",
       "┡━━━━━━━━━━━╇━━━━━━━━━━━━━━━━━┩\n",
       "│<span style=\"color: #800080; text-decoration-color: #800080\">     z     </span>│<span style=\"color: #008000; text-decoration-color: #008000\"> 1.24E+3         </span>│\n",
       "│<span style=\"color: #800080; text-decoration-color: #800080\">    x1     </span>│<span style=\"color: #008000; text-decoration-color: #008000\"> 0               </span>│\n",
       "│<span style=\"color: #800080; text-decoration-color: #800080\">    x2     </span>│<span style=\"color: #008000; text-decoration-color: #008000\"> 1E+1            </span>│\n",
       "│<span style=\"color: #800080; text-decoration-color: #800080\">    x3     </span>│<span style=\"color: #008000; text-decoration-color: #008000\"> 0               </span>│\n",
       "│<span style=\"color: #800080; text-decoration-color: #800080\">    x4     </span>│<span style=\"color: #008000; text-decoration-color: #008000\"> 2E+1            </span>│\n",
       "│<span style=\"color: #800080; text-decoration-color: #800080\">    x5     </span>│<span style=\"color: #008000; text-decoration-color: #008000\"> 0               </span>│\n",
       "│<span style=\"color: #800080; text-decoration-color: #800080\">    x6     </span>│<span style=\"color: #008000; text-decoration-color: #008000\"> 5               </span>│\n",
       "│<span style=\"color: #800080; text-decoration-color: #800080\">    x7     </span>│<span style=\"color: #008000; text-decoration-color: #008000\"> 1E+1            </span>│\n",
       "│<span style=\"color: #800080; text-decoration-color: #800080\">    x8     </span>│<span style=\"color: #008000; text-decoration-color: #008000\"> 0               </span>│\n",
       "│<span style=\"color: #800080; text-decoration-color: #800080\">    x9     </span>│<span style=\"color: #008000; text-decoration-color: #008000\"> 15              </span>│\n",
       "│<span style=\"color: #800080; text-decoration-color: #800080\">    x10    </span>│<span style=\"color: #008000; text-decoration-color: #008000\"> 1E+1            </span>│\n",
       "│<span style=\"color: #800080; text-decoration-color: #800080\">    x11    </span>│<span style=\"color: #008000; text-decoration-color: #008000\"> 0               </span>│\n",
       "│<span style=\"color: #800080; text-decoration-color: #800080\">    x12    </span>│<span style=\"color: #008000; text-decoration-color: #008000\"> 0               </span>│\n",
       "└───────────┴─────────────────┘\n",
       "</pre>\n"
      ],
      "text/plain": [
       "\u001b[3m          Resultados           \u001b[0m\n",
       "┏━━━━━━━━━━━┳━━━━━━━━━━━━━━━━━┓\n",
       "┃\u001b[1m \u001b[0m\u001b[1mVariables\u001b[0m\u001b[1m \u001b[0m┃\u001b[1m \u001b[0m\u001b[1mValores óptimos\u001b[0m\u001b[1m \u001b[0m┃\n",
       "┡━━━━━━━━━━━╇━━━━━━━━━━━━━━━━━┩\n",
       "│\u001b[35m \u001b[0m\u001b[35m    z    \u001b[0m\u001b[35m \u001b[0m│\u001b[32m \u001b[0m\u001b[32m1.24E+3        \u001b[0m\u001b[32m \u001b[0m│\n",
       "│\u001b[35m \u001b[0m\u001b[35m   x1    \u001b[0m\u001b[35m \u001b[0m│\u001b[32m \u001b[0m\u001b[32m0              \u001b[0m\u001b[32m \u001b[0m│\n",
       "│\u001b[35m \u001b[0m\u001b[35m   x2    \u001b[0m\u001b[35m \u001b[0m│\u001b[32m \u001b[0m\u001b[32m1E+1           \u001b[0m\u001b[32m \u001b[0m│\n",
       "│\u001b[35m \u001b[0m\u001b[35m   x3    \u001b[0m\u001b[35m \u001b[0m│\u001b[32m \u001b[0m\u001b[32m0              \u001b[0m\u001b[32m \u001b[0m│\n",
       "│\u001b[35m \u001b[0m\u001b[35m   x4    \u001b[0m\u001b[35m \u001b[0m│\u001b[32m \u001b[0m\u001b[32m2E+1           \u001b[0m\u001b[32m \u001b[0m│\n",
       "│\u001b[35m \u001b[0m\u001b[35m   x5    \u001b[0m\u001b[35m \u001b[0m│\u001b[32m \u001b[0m\u001b[32m0              \u001b[0m\u001b[32m \u001b[0m│\n",
       "│\u001b[35m \u001b[0m\u001b[35m   x6    \u001b[0m\u001b[35m \u001b[0m│\u001b[32m \u001b[0m\u001b[32m5              \u001b[0m\u001b[32m \u001b[0m│\n",
       "│\u001b[35m \u001b[0m\u001b[35m   x7    \u001b[0m\u001b[35m \u001b[0m│\u001b[32m \u001b[0m\u001b[32m1E+1           \u001b[0m\u001b[32m \u001b[0m│\n",
       "│\u001b[35m \u001b[0m\u001b[35m   x8    \u001b[0m\u001b[35m \u001b[0m│\u001b[32m \u001b[0m\u001b[32m0              \u001b[0m\u001b[32m \u001b[0m│\n",
       "│\u001b[35m \u001b[0m\u001b[35m   x9    \u001b[0m\u001b[35m \u001b[0m│\u001b[32m \u001b[0m\u001b[32m15             \u001b[0m\u001b[32m \u001b[0m│\n",
       "│\u001b[35m \u001b[0m\u001b[35m   x10   \u001b[0m\u001b[35m \u001b[0m│\u001b[32m \u001b[0m\u001b[32m1E+1           \u001b[0m\u001b[32m \u001b[0m│\n",
       "│\u001b[35m \u001b[0m\u001b[35m   x11   \u001b[0m\u001b[35m \u001b[0m│\u001b[32m \u001b[0m\u001b[32m0              \u001b[0m\u001b[32m \u001b[0m│\n",
       "│\u001b[35m \u001b[0m\u001b[35m   x12   \u001b[0m\u001b[35m \u001b[0m│\u001b[32m \u001b[0m\u001b[32m0              \u001b[0m\u001b[32m \u001b[0m│\n",
       "└───────────┴─────────────────┘\n"
      ]
     },
     "metadata": {},
     "output_type": "display_data"
    }
   ],
   "source": [
    "simplex_angelica = Simplex(\n",
    "    numero_de_variables=12,\n",
    "    funcion_objetivo=FuncionObjetivo(\"z = 16*x1 + 10*x2 + 12*x3 + 13*x4 + 26*x5 + 20*x6 + 30*x7 + 21*x8 + 22*x9 + 15*x10 + 23*x11 + 14x12\"),\n",
    "    metodo=Simplex.MAXIMIZAR,\n",
    "    restricciones=[\n",
    "        ExpresionAlgebraica(\"x1 + x2 + x3 + x4 <= 30\"),\n",
    "        ExpresionAlgebraica(\"x5 + x6 + x7 + x8 <= 15\"),\n",
    "        ExpresionAlgebraica(\"x9 + x10 + x11 + x12 <= 25\"),\n",
    "        ExpresionAlgebraica(\"x1 + x5 + x9 >= 15\"),\n",
    "        ExpresionAlgebraica(\"x2 + x6 + x10 >= 25\"),\n",
    "        ExpresionAlgebraica(\"x3 + x7 + x11 >= 10\"),\n",
    "        ExpresionAlgebraica(\"x4 + x8 + x12 >= 20\"),\n",
    "    ]\n",
    ")\n",
    "simplex_angelica.resolver_problema()\n",
    "simplex_angelica.mostrar_resultados()"
   ]
  },
  {
   "cell_type": "code",
   "execution_count": 5,
   "id": "e9a7c7e3",
   "metadata": {},
   "outputs": [
    {
     "data": {
      "text/html": [
       "<pre style=\"white-space:pre;overflow-x:auto;line-height:normal;font-family:Menlo,'DejaVu Sans Mono',consolas,'Courier New',monospace\"><span style=\"font-style: italic\">Maximizar </span><span style=\"color: #000087; text-decoration-color: #000087; font-style: italic\">z = 2 * x1 + x2 - 3 * x3 + 5 * x4</span><span style=\"font-style: italic\">                                  </span>\n",
       "┏━━━━━━━━━━━━━━━━━━━━━━━━━━━━━━━━━━━━━┳━━━━━━━━━━━━━━━━━━━━━━━━━━┳━━━━━┳━━━━┓\n",
       "┃<span style=\"font-weight: bold\"> Restricciones                       </span>┃<span style=\"font-weight: bold\"> ['x1', 'x2', 'x3', 'x4'] </span>┃<span style=\"font-weight: bold\"> &lt;=&gt; </span>┃<span style=\"font-weight: bold\"> b  </span>┃\n",
       "┡━━━━━━━━━━━━━━━━━━━━━━━━━━━━━━━━━━━━━╇━━━━━━━━━━━━━━━━━━━━━━━━━━╇━━━━━╇━━━━┩\n",
       "│<span style=\"color: #0087d7; text-decoration-color: #0087d7\"> x1 + 2 * x2 + 2 * x3 + 4 * x4 &lt;= 40 </span>│<span style=\"color: #008000; text-decoration-color: #008000\">   ['1', '2', '2', '4']   </span>│<span style=\"color: #d70087; text-decoration-color: #d70087\"> &lt;=  </span>│<span style=\"color: #008000; text-decoration-color: #008000\"> 40 </span>│\n",
       "│<span style=\"color: #0087d7; text-decoration-color: #0087d7\"> 2 * x1 - x2 + x3 + 2 * x4 &lt;= 8      </span>│<span style=\"color: #008000; text-decoration-color: #008000\">  ['2', '-1', '1', '2']   </span>│<span style=\"color: #d70087; text-decoration-color: #d70087\"> &lt;=  </span>│<span style=\"color: #008000; text-decoration-color: #008000\"> 8  </span>│\n",
       "│<span style=\"color: #0087d7; text-decoration-color: #0087d7\"> 4 * x1 - 2 * x2 + x3 - x4 &lt;= 10     </span>│<span style=\"color: #008000; text-decoration-color: #008000\">  ['4', '-2', '1', '-1']  </span>│<span style=\"color: #d70087; text-decoration-color: #d70087\"> &lt;=  </span>│<span style=\"color: #008000; text-decoration-color: #008000\"> 10 </span>│\n",
       "└─────────────────────────────────────┴──────────────────────────┴─────┴────┘\n",
       "</pre>\n"
      ],
      "text/plain": [
       "\u001b[3mMaximizar \u001b[0m\u001b[3;38;5;18mz = 2 * x1 + x2 - 3 * x3 + 5 * x4\u001b[0m\u001b[3m                                  \u001b[0m\n",
       "┏━━━━━━━━━━━━━━━━━━━━━━━━━━━━━━━━━━━━━┳━━━━━━━━━━━━━━━━━━━━━━━━━━┳━━━━━┳━━━━┓\n",
       "┃\u001b[1m \u001b[0m\u001b[1mRestricciones                      \u001b[0m\u001b[1m \u001b[0m┃\u001b[1m \u001b[0m\u001b[1m['x1', 'x2', 'x3', 'x4']\u001b[0m\u001b[1m \u001b[0m┃\u001b[1m \u001b[0m\u001b[1m<=>\u001b[0m\u001b[1m \u001b[0m┃\u001b[1m \u001b[0m\u001b[1mb \u001b[0m\u001b[1m \u001b[0m┃\n",
       "┡━━━━━━━━━━━━━━━━━━━━━━━━━━━━━━━━━━━━━╇━━━━━━━━━━━━━━━━━━━━━━━━━━╇━━━━━╇━━━━┩\n",
       "│\u001b[38;5;32m \u001b[0m\u001b[38;5;32mx1 + 2 * x2 + 2 * x3 + 4 * x4 <= 40\u001b[0m\u001b[38;5;32m \u001b[0m│\u001b[32m \u001b[0m\u001b[32m  ['1', '2', '2', '4']  \u001b[0m\u001b[32m \u001b[0m│\u001b[38;5;162m \u001b[0m\u001b[38;5;162m<= \u001b[0m\u001b[38;5;162m \u001b[0m│\u001b[32m \u001b[0m\u001b[32m40\u001b[0m\u001b[32m \u001b[0m│\n",
       "│\u001b[38;5;32m \u001b[0m\u001b[38;5;32m2 * x1 - x2 + x3 + 2 * x4 <= 8     \u001b[0m\u001b[38;5;32m \u001b[0m│\u001b[32m \u001b[0m\u001b[32m ['2', '-1', '1', '2']  \u001b[0m\u001b[32m \u001b[0m│\u001b[38;5;162m \u001b[0m\u001b[38;5;162m<= \u001b[0m\u001b[38;5;162m \u001b[0m│\u001b[32m \u001b[0m\u001b[32m8 \u001b[0m\u001b[32m \u001b[0m│\n",
       "│\u001b[38;5;32m \u001b[0m\u001b[38;5;32m4 * x1 - 2 * x2 + x3 - x4 <= 10    \u001b[0m\u001b[38;5;32m \u001b[0m│\u001b[32m \u001b[0m\u001b[32m ['4', '-2', '1', '-1'] \u001b[0m\u001b[32m \u001b[0m│\u001b[38;5;162m \u001b[0m\u001b[38;5;162m<= \u001b[0m\u001b[38;5;162m \u001b[0m│\u001b[32m \u001b[0m\u001b[32m10\u001b[0m\u001b[32m \u001b[0m│\n",
       "└─────────────────────────────────────┴──────────────────────────┴─────┴────┘\n"
      ]
     },
     "metadata": {},
     "output_type": "display_data"
    },
    {
     "data": {
      "text/html": [
       "<pre style=\"white-space:pre;overflow-x:auto;line-height:normal;font-family:Menlo,'DejaVu Sans Mono',consolas,'Courier New',monospace\"><span style=\"font-style: italic\">      Preparación de datos      </span>\n",
       "┏━━━━━━━━━━━━━━━━━━━━━━━━━┳━━━━┓\n",
       "┃<span style=\"font-weight: bold\"> A                       </span>┃<span style=\"font-weight: bold\">  b </span>┃\n",
       "┡━━━━━━━━━━━━━━━━━━━━━━━━━╇━━━━┩\n",
       "│<span style=\"color: #0087d7; text-decoration-color: #0087d7\"> ['1', '2', '2', '4']    </span>│<span style=\"color: #0087d7; text-decoration-color: #0087d7\"> 40 </span>│\n",
       "│<span style=\"color: #0087d7; text-decoration-color: #0087d7\"> ['2', '-1', '1', '2']   </span>│<span style=\"color: #0087d7; text-decoration-color: #0087d7\">  8 </span>│\n",
       "│<span style=\"color: #0087d7; text-decoration-color: #0087d7\"> ['4', '-2', '1', '-1']  </span>│<span style=\"color: #0087d7; text-decoration-color: #0087d7\"> 10 </span>│\n",
       "├─────────────────────────┼────┤\n",
       "│<span style=\"color: #0087d7; text-decoration-color: #0087d7\"> ['-2', '-1', '3', '-5'] </span>│<span style=\"color: #0087d7; text-decoration-color: #0087d7\">  0 </span>│\n",
       "└─────────────────────────┴────┘\n",
       "</pre>\n"
      ],
      "text/plain": [
       "\u001b[3m      Preparación de datos      \u001b[0m\n",
       "┏━━━━━━━━━━━━━━━━━━━━━━━━━┳━━━━┓\n",
       "┃\u001b[1m \u001b[0m\u001b[1mA                      \u001b[0m\u001b[1m \u001b[0m┃\u001b[1m \u001b[0m\u001b[1m b\u001b[0m\u001b[1m \u001b[0m┃\n",
       "┡━━━━━━━━━━━━━━━━━━━━━━━━━╇━━━━┩\n",
       "│\u001b[38;5;32m \u001b[0m\u001b[38;5;32m['1', '2', '2', '4']   \u001b[0m\u001b[38;5;32m \u001b[0m│\u001b[38;5;32m \u001b[0m\u001b[38;5;32m40\u001b[0m\u001b[38;5;32m \u001b[0m│\n",
       "│\u001b[38;5;32m \u001b[0m\u001b[38;5;32m['2', '-1', '1', '2']  \u001b[0m\u001b[38;5;32m \u001b[0m│\u001b[38;5;32m \u001b[0m\u001b[38;5;32m 8\u001b[0m\u001b[38;5;32m \u001b[0m│\n",
       "│\u001b[38;5;32m \u001b[0m\u001b[38;5;32m['4', '-2', '1', '-1'] \u001b[0m\u001b[38;5;32m \u001b[0m│\u001b[38;5;32m \u001b[0m\u001b[38;5;32m10\u001b[0m\u001b[38;5;32m \u001b[0m│\n",
       "├─────────────────────────┼────┤\n",
       "│\u001b[38;5;32m \u001b[0m\u001b[38;5;32m['-2', '-1', '3', '-5']\u001b[0m\u001b[38;5;32m \u001b[0m│\u001b[38;5;32m \u001b[0m\u001b[38;5;32m 0\u001b[0m\u001b[38;5;32m \u001b[0m│\n",
       "└─────────────────────────┴────┘\n"
      ]
     },
     "metadata": {},
     "output_type": "display_data"
    },
    {
     "data": {
      "text/html": [
       "<pre style=\"white-space:pre;overflow-x:auto;line-height:normal;font-family:Menlo,'DejaVu Sans Mono',consolas,'Courier New',monospace\"><span style=\"font-style: italic\">          Resultados           </span>\n",
       "┏━━━━━━━━━━━┳━━━━━━━━━━━━━━━━━┓\n",
       "┃<span style=\"font-weight: bold\"> Variables </span>┃<span style=\"font-weight: bold\"> Valores óptimos </span>┃\n",
       "┡━━━━━━━━━━━╇━━━━━━━━━━━━━━━━━┩\n",
       "│<span style=\"color: #800080; text-decoration-color: #800080\">     z     </span>│<span style=\"color: #008000; text-decoration-color: #008000\"> 41              </span>│\n",
       "│<span style=\"color: #800080; text-decoration-color: #800080\">    x1     </span>│<span style=\"color: #008000; text-decoration-color: #008000\"> 0               </span>│\n",
       "│<span style=\"color: #800080; text-decoration-color: #800080\">    x2     </span>│<span style=\"color: #008000; text-decoration-color: #008000\"> 6               </span>│\n",
       "│<span style=\"color: #800080; text-decoration-color: #800080\">    x3     </span>│<span style=\"color: #008000; text-decoration-color: #008000\"> 0               </span>│\n",
       "│<span style=\"color: #800080; text-decoration-color: #800080\">    x4     </span>│<span style=\"color: #008000; text-decoration-color: #008000\"> 7               </span>│\n",
       "└───────────┴─────────────────┘\n",
       "</pre>\n"
      ],
      "text/plain": [
       "\u001b[3m          Resultados           \u001b[0m\n",
       "┏━━━━━━━━━━━┳━━━━━━━━━━━━━━━━━┓\n",
       "┃\u001b[1m \u001b[0m\u001b[1mVariables\u001b[0m\u001b[1m \u001b[0m┃\u001b[1m \u001b[0m\u001b[1mValores óptimos\u001b[0m\u001b[1m \u001b[0m┃\n",
       "┡━━━━━━━━━━━╇━━━━━━━━━━━━━━━━━┩\n",
       "│\u001b[35m \u001b[0m\u001b[35m    z    \u001b[0m\u001b[35m \u001b[0m│\u001b[32m \u001b[0m\u001b[32m41             \u001b[0m\u001b[32m \u001b[0m│\n",
       "│\u001b[35m \u001b[0m\u001b[35m   x1    \u001b[0m\u001b[35m \u001b[0m│\u001b[32m \u001b[0m\u001b[32m0              \u001b[0m\u001b[32m \u001b[0m│\n",
       "│\u001b[35m \u001b[0m\u001b[35m   x2    \u001b[0m\u001b[35m \u001b[0m│\u001b[32m \u001b[0m\u001b[32m6              \u001b[0m\u001b[32m \u001b[0m│\n",
       "│\u001b[35m \u001b[0m\u001b[35m   x3    \u001b[0m\u001b[35m \u001b[0m│\u001b[32m \u001b[0m\u001b[32m0              \u001b[0m\u001b[32m \u001b[0m│\n",
       "│\u001b[35m \u001b[0m\u001b[35m   x4    \u001b[0m\u001b[35m \u001b[0m│\u001b[32m \u001b[0m\u001b[32m7              \u001b[0m\u001b[32m \u001b[0m│\n",
       "└───────────┴─────────────────┘\n"
      ]
     },
     "metadata": {},
     "output_type": "display_data"
    }
   ],
   "source": [
    "simplex2 = Simplex(\n",
    "    numero_de_variables=4,\n",
    "    funcion_objetivo=FuncionObjetivo(\"z = 2*x1 + x2 - 3*x3 + 5*x4\"),\n",
    "    metodo=Simplex.MAXIMIZAR,\n",
    "    restricciones=[\n",
    "        ExpresionAlgebraica(\"x1 + 2x2 + 2x3 + 4x4 <= 40\"),\n",
    "        ExpresionAlgebraica(\"2x1 - x2 + x3 + 2x4 <= 8\"),\n",
    "        ExpresionAlgebraica(\"4x1 - 2x2 + x3 - x4 <= 10\"),\n",
    "    ]\n",
    ")\n",
    "simplex2.resolver_problema()\n",
    "simplex2.mostrar_resultados()"
   ]
  },
  {
   "cell_type": "code",
   "execution_count": 6,
   "id": "90508bbf",
   "metadata": {},
   "outputs": [
    {
     "data": {
      "text/html": [
       "<pre style=\"white-space:pre;overflow-x:auto;line-height:normal;font-family:Menlo,'DejaVu Sans Mono',consolas,'Courier New',monospace\"><span style=\"font-style: italic\">Minimizar </span><span style=\"color: #000087; text-decoration-color: #000087; font-style: italic\">z = 8 * x1 + 6 * x2 + 3 * x3 - 2 * x4</span><span style=\"font-style: italic\">                              </span>\n",
       "┏━━━━━━━━━━━━━━━━━━━━━━━━━━━━━━━━━━━━━┳━━━━━━━━━━━━━━━━━━━━━━━━━━┳━━━━━┳━━━━┓\n",
       "┃<span style=\"font-weight: bold\"> Restricciones                       </span>┃<span style=\"font-weight: bold\"> ['x1', 'x2', 'x3', 'x4'] </span>┃<span style=\"font-weight: bold\"> &lt;=&gt; </span>┃<span style=\"font-weight: bold\"> b  </span>┃\n",
       "┡━━━━━━━━━━━━━━━━━━━━━━━━━━━━━━━━━━━━━╇━━━━━━━━━━━━━━━━━━━━━━━━━━╇━━━━━╇━━━━┩\n",
       "│<span style=\"color: #0087d7; text-decoration-color: #0087d7\"> x1 + 2 * x2 + 2 * x3 + 4 * x4 &lt;= 40 </span>│<span style=\"color: #008000; text-decoration-color: #008000\">   ['1', '2', '2', '4']   </span>│<span style=\"color: #d70087; text-decoration-color: #d70087\"> &lt;=  </span>│<span style=\"color: #008000; text-decoration-color: #008000\"> 40 </span>│\n",
       "│<span style=\"color: #0087d7; text-decoration-color: #0087d7\"> 2 * x1 - x2 + x3 + 2 * x4 &lt;= 8      </span>│<span style=\"color: #008000; text-decoration-color: #008000\">  ['2', '-1', '1', '2']   </span>│<span style=\"color: #d70087; text-decoration-color: #d70087\"> &lt;=  </span>│<span style=\"color: #008000; text-decoration-color: #008000\"> 8  </span>│\n",
       "│<span style=\"color: #0087d7; text-decoration-color: #0087d7\"> 4 * x1 - 2 * x2 + x3 - x4 &lt;= 10     </span>│<span style=\"color: #008000; text-decoration-color: #008000\">  ['4', '-2', '1', '-1']  </span>│<span style=\"color: #d70087; text-decoration-color: #d70087\"> &lt;=  </span>│<span style=\"color: #008000; text-decoration-color: #008000\"> 10 </span>│\n",
       "└─────────────────────────────────────┴──────────────────────────┴─────┴────┘\n",
       "</pre>\n"
      ],
      "text/plain": [
       "\u001b[3mMinimizar \u001b[0m\u001b[3;38;5;18mz = 8 * x1 + 6 * x2 + 3 * x3 - 2 * x4\u001b[0m\u001b[3m                              \u001b[0m\n",
       "┏━━━━━━━━━━━━━━━━━━━━━━━━━━━━━━━━━━━━━┳━━━━━━━━━━━━━━━━━━━━━━━━━━┳━━━━━┳━━━━┓\n",
       "┃\u001b[1m \u001b[0m\u001b[1mRestricciones                      \u001b[0m\u001b[1m \u001b[0m┃\u001b[1m \u001b[0m\u001b[1m['x1', 'x2', 'x3', 'x4']\u001b[0m\u001b[1m \u001b[0m┃\u001b[1m \u001b[0m\u001b[1m<=>\u001b[0m\u001b[1m \u001b[0m┃\u001b[1m \u001b[0m\u001b[1mb \u001b[0m\u001b[1m \u001b[0m┃\n",
       "┡━━━━━━━━━━━━━━━━━━━━━━━━━━━━━━━━━━━━━╇━━━━━━━━━━━━━━━━━━━━━━━━━━╇━━━━━╇━━━━┩\n",
       "│\u001b[38;5;32m \u001b[0m\u001b[38;5;32mx1 + 2 * x2 + 2 * x3 + 4 * x4 <= 40\u001b[0m\u001b[38;5;32m \u001b[0m│\u001b[32m \u001b[0m\u001b[32m  ['1', '2', '2', '4']  \u001b[0m\u001b[32m \u001b[0m│\u001b[38;5;162m \u001b[0m\u001b[38;5;162m<= \u001b[0m\u001b[38;5;162m \u001b[0m│\u001b[32m \u001b[0m\u001b[32m40\u001b[0m\u001b[32m \u001b[0m│\n",
       "│\u001b[38;5;32m \u001b[0m\u001b[38;5;32m2 * x1 - x2 + x3 + 2 * x4 <= 8     \u001b[0m\u001b[38;5;32m \u001b[0m│\u001b[32m \u001b[0m\u001b[32m ['2', '-1', '1', '2']  \u001b[0m\u001b[32m \u001b[0m│\u001b[38;5;162m \u001b[0m\u001b[38;5;162m<= \u001b[0m\u001b[38;5;162m \u001b[0m│\u001b[32m \u001b[0m\u001b[32m8 \u001b[0m\u001b[32m \u001b[0m│\n",
       "│\u001b[38;5;32m \u001b[0m\u001b[38;5;32m4 * x1 - 2 * x2 + x3 - x4 <= 10    \u001b[0m\u001b[38;5;32m \u001b[0m│\u001b[32m \u001b[0m\u001b[32m ['4', '-2', '1', '-1'] \u001b[0m\u001b[32m \u001b[0m│\u001b[38;5;162m \u001b[0m\u001b[38;5;162m<= \u001b[0m\u001b[38;5;162m \u001b[0m│\u001b[32m \u001b[0m\u001b[32m10\u001b[0m\u001b[32m \u001b[0m│\n",
       "└─────────────────────────────────────┴──────────────────────────┴─────┴────┘\n"
      ]
     },
     "metadata": {},
     "output_type": "display_data"
    },
    {
     "data": {
      "text/html": [
       "<pre style=\"white-space:pre;overflow-x:auto;line-height:normal;font-family:Menlo,'DejaVu Sans Mono',consolas,'Courier New',monospace\"><span style=\"font-style: italic\">     Preparación de datos      </span>\n",
       "┏━━━━━━━━━━━━━━━━━━━━━━━━┳━━━━┓\n",
       "┃<span style=\"font-weight: bold\"> A                      </span>┃<span style=\"font-weight: bold\">  b </span>┃\n",
       "┡━━━━━━━━━━━━━━━━━━━━━━━━╇━━━━┩\n",
       "│<span style=\"color: #0087d7; text-decoration-color: #0087d7\"> ['1', '2', '2', '4']   </span>│<span style=\"color: #0087d7; text-decoration-color: #0087d7\"> 40 </span>│\n",
       "│<span style=\"color: #0087d7; text-decoration-color: #0087d7\"> ['2', '-1', '1', '2']  </span>│<span style=\"color: #0087d7; text-decoration-color: #0087d7\">  8 </span>│\n",
       "│<span style=\"color: #0087d7; text-decoration-color: #0087d7\"> ['4', '-2', '1', '-1'] </span>│<span style=\"color: #0087d7; text-decoration-color: #0087d7\"> 10 </span>│\n",
       "├────────────────────────┼────┤\n",
       "│<span style=\"color: #0087d7; text-decoration-color: #0087d7\"> ['8', '6', '3', '-2']  </span>│<span style=\"color: #0087d7; text-decoration-color: #0087d7\">  0 </span>│\n",
       "└────────────────────────┴────┘\n",
       "</pre>\n"
      ],
      "text/plain": [
       "\u001b[3m     Preparación de datos      \u001b[0m\n",
       "┏━━━━━━━━━━━━━━━━━━━━━━━━┳━━━━┓\n",
       "┃\u001b[1m \u001b[0m\u001b[1mA                     \u001b[0m\u001b[1m \u001b[0m┃\u001b[1m \u001b[0m\u001b[1m b\u001b[0m\u001b[1m \u001b[0m┃\n",
       "┡━━━━━━━━━━━━━━━━━━━━━━━━╇━━━━┩\n",
       "│\u001b[38;5;32m \u001b[0m\u001b[38;5;32m['1', '2', '2', '4']  \u001b[0m\u001b[38;5;32m \u001b[0m│\u001b[38;5;32m \u001b[0m\u001b[38;5;32m40\u001b[0m\u001b[38;5;32m \u001b[0m│\n",
       "│\u001b[38;5;32m \u001b[0m\u001b[38;5;32m['2', '-1', '1', '2'] \u001b[0m\u001b[38;5;32m \u001b[0m│\u001b[38;5;32m \u001b[0m\u001b[38;5;32m 8\u001b[0m\u001b[38;5;32m \u001b[0m│\n",
       "│\u001b[38;5;32m \u001b[0m\u001b[38;5;32m['4', '-2', '1', '-1']\u001b[0m\u001b[38;5;32m \u001b[0m│\u001b[38;5;32m \u001b[0m\u001b[38;5;32m10\u001b[0m\u001b[38;5;32m \u001b[0m│\n",
       "├────────────────────────┼────┤\n",
       "│\u001b[38;5;32m \u001b[0m\u001b[38;5;32m['8', '6', '3', '-2'] \u001b[0m\u001b[38;5;32m \u001b[0m│\u001b[38;5;32m \u001b[0m\u001b[38;5;32m 0\u001b[0m\u001b[38;5;32m \u001b[0m│\n",
       "└────────────────────────┴────┘\n"
      ]
     },
     "metadata": {},
     "output_type": "display_data"
    },
    {
     "data": {
      "text/html": [
       "<pre style=\"white-space:pre;overflow-x:auto;line-height:normal;font-family:Menlo,'DejaVu Sans Mono',consolas,'Courier New',monospace\"><span style=\"font-style: italic\">          Resultados           </span>\n",
       "┏━━━━━━━━━━━┳━━━━━━━━━━━━━━━━━┓\n",
       "┃<span style=\"font-weight: bold\"> Variables </span>┃<span style=\"font-weight: bold\"> Valores óptimos </span>┃\n",
       "┡━━━━━━━━━━━╇━━━━━━━━━━━━━━━━━┩\n",
       "│<span style=\"color: #800080; text-decoration-color: #800080\">     z     </span>│<span style=\"color: #008000; text-decoration-color: #008000\"> -8              </span>│\n",
       "│<span style=\"color: #800080; text-decoration-color: #800080\">    x1     </span>│<span style=\"color: #008000; text-decoration-color: #008000\"> 0               </span>│\n",
       "│<span style=\"color: #800080; text-decoration-color: #800080\">    x2     </span>│<span style=\"color: #008000; text-decoration-color: #008000\"> 0               </span>│\n",
       "│<span style=\"color: #800080; text-decoration-color: #800080\">    x3     </span>│<span style=\"color: #008000; text-decoration-color: #008000\"> 0               </span>│\n",
       "│<span style=\"color: #800080; text-decoration-color: #800080\">    x4     </span>│<span style=\"color: #008000; text-decoration-color: #008000\"> 4               </span>│\n",
       "└───────────┴─────────────────┘\n",
       "</pre>\n"
      ],
      "text/plain": [
       "\u001b[3m          Resultados           \u001b[0m\n",
       "┏━━━━━━━━━━━┳━━━━━━━━━━━━━━━━━┓\n",
       "┃\u001b[1m \u001b[0m\u001b[1mVariables\u001b[0m\u001b[1m \u001b[0m┃\u001b[1m \u001b[0m\u001b[1mValores óptimos\u001b[0m\u001b[1m \u001b[0m┃\n",
       "┡━━━━━━━━━━━╇━━━━━━━━━━━━━━━━━┩\n",
       "│\u001b[35m \u001b[0m\u001b[35m    z    \u001b[0m\u001b[35m \u001b[0m│\u001b[32m \u001b[0m\u001b[32m-8             \u001b[0m\u001b[32m \u001b[0m│\n",
       "│\u001b[35m \u001b[0m\u001b[35m   x1    \u001b[0m\u001b[35m \u001b[0m│\u001b[32m \u001b[0m\u001b[32m0              \u001b[0m\u001b[32m \u001b[0m│\n",
       "│\u001b[35m \u001b[0m\u001b[35m   x2    \u001b[0m\u001b[35m \u001b[0m│\u001b[32m \u001b[0m\u001b[32m0              \u001b[0m\u001b[32m \u001b[0m│\n",
       "│\u001b[35m \u001b[0m\u001b[35m   x3    \u001b[0m\u001b[35m \u001b[0m│\u001b[32m \u001b[0m\u001b[32m0              \u001b[0m\u001b[32m \u001b[0m│\n",
       "│\u001b[35m \u001b[0m\u001b[35m   x4    \u001b[0m\u001b[35m \u001b[0m│\u001b[32m \u001b[0m\u001b[32m4              \u001b[0m\u001b[32m \u001b[0m│\n",
       "└───────────┴─────────────────┘\n"
      ]
     },
     "metadata": {},
     "output_type": "display_data"
    }
   ],
   "source": [
    "simplex2.funcion_objetivo = FuncionObjetivo(\"z = 8 x1 + 6 x2 + 3 x3 - 2 x4\")\n",
    "simplex2.metodo = Simplex.MINIMIZAR\n",
    "simplex2.resolver_problema()\n",
    "simplex2.mostrar_resultados()"
   ]
  },
  {
   "cell_type": "code",
   "execution_count": 7,
   "id": "2fd2f07c",
   "metadata": {},
   "outputs": [
    {
     "data": {
      "text/html": [
       "<pre style=\"white-space:pre;overflow-x:auto;line-height:normal;font-family:Menlo,'DejaVu Sans Mono',consolas,'Courier New',monospace\"><span style=\"font-style: italic\">Maximizar </span><span style=\"color: #000087; text-decoration-color: #000087; font-style: italic\">z = 5 * x1 + 6 * x2</span><span style=\"font-style: italic\">                      </span>\n",
       "┏━━━━━━━━━━━━━━━━━━━━━━━┳━━━━━━━━━━━━━━┳━━━━━┳━━━━┓\n",
       "┃<span style=\"font-weight: bold\"> Restricciones         </span>┃<span style=\"font-weight: bold\"> ['x1', 'x2'] </span>┃<span style=\"font-weight: bold\"> &lt;=&gt; </span>┃<span style=\"font-weight: bold\"> b  </span>┃\n",
       "┡━━━━━━━━━━━━━━━━━━━━━━━╇━━━━━━━━━━━━━━╇━━━━━╇━━━━┩\n",
       "│<span style=\"color: #0087d7; text-decoration-color: #0087d7\"> -2 * x1 + 3 * x2 = 3  </span>│<span style=\"color: #008000; text-decoration-color: #008000\"> ['-2', '3']  </span>│<span style=\"color: #d70087; text-decoration-color: #d70087\">  =  </span>│<span style=\"color: #008000; text-decoration-color: #008000\"> 3  </span>│\n",
       "│<span style=\"color: #0087d7; text-decoration-color: #0087d7\"> 4 * x1 + 5 * x2 &gt;= 10 </span>│<span style=\"color: #008000; text-decoration-color: #008000\">  ['4', '5']  </span>│<span style=\"color: #d70087; text-decoration-color: #d70087\"> &gt;=  </span>│<span style=\"color: #008000; text-decoration-color: #008000\"> 10 </span>│\n",
       "│<span style=\"color: #0087d7; text-decoration-color: #0087d7\"> x1 + 2 * x2 &lt;= 5      </span>│<span style=\"color: #008000; text-decoration-color: #008000\">  ['1', '2']  </span>│<span style=\"color: #d70087; text-decoration-color: #d70087\"> &lt;=  </span>│<span style=\"color: #008000; text-decoration-color: #008000\"> 5  </span>│\n",
       "└───────────────────────┴──────────────┴─────┴────┘\n",
       "</pre>\n"
      ],
      "text/plain": [
       "\u001b[3mMaximizar \u001b[0m\u001b[3;38;5;18mz = 5 * x1 + 6 * x2\u001b[0m\u001b[3m                      \u001b[0m\n",
       "┏━━━━━━━━━━━━━━━━━━━━━━━┳━━━━━━━━━━━━━━┳━━━━━┳━━━━┓\n",
       "┃\u001b[1m \u001b[0m\u001b[1mRestricciones        \u001b[0m\u001b[1m \u001b[0m┃\u001b[1m \u001b[0m\u001b[1m['x1', 'x2']\u001b[0m\u001b[1m \u001b[0m┃\u001b[1m \u001b[0m\u001b[1m<=>\u001b[0m\u001b[1m \u001b[0m┃\u001b[1m \u001b[0m\u001b[1mb \u001b[0m\u001b[1m \u001b[0m┃\n",
       "┡━━━━━━━━━━━━━━━━━━━━━━━╇━━━━━━━━━━━━━━╇━━━━━╇━━━━┩\n",
       "│\u001b[38;5;32m \u001b[0m\u001b[38;5;32m-2 * x1 + 3 * x2 = 3 \u001b[0m\u001b[38;5;32m \u001b[0m│\u001b[32m \u001b[0m\u001b[32m['-2', '3'] \u001b[0m\u001b[32m \u001b[0m│\u001b[38;5;162m \u001b[0m\u001b[38;5;162m = \u001b[0m\u001b[38;5;162m \u001b[0m│\u001b[32m \u001b[0m\u001b[32m3 \u001b[0m\u001b[32m \u001b[0m│\n",
       "│\u001b[38;5;32m \u001b[0m\u001b[38;5;32m4 * x1 + 5 * x2 >= 10\u001b[0m\u001b[38;5;32m \u001b[0m│\u001b[32m \u001b[0m\u001b[32m ['4', '5'] \u001b[0m\u001b[32m \u001b[0m│\u001b[38;5;162m \u001b[0m\u001b[38;5;162m>= \u001b[0m\u001b[38;5;162m \u001b[0m│\u001b[32m \u001b[0m\u001b[32m10\u001b[0m\u001b[32m \u001b[0m│\n",
       "│\u001b[38;5;32m \u001b[0m\u001b[38;5;32mx1 + 2 * x2 <= 5     \u001b[0m\u001b[38;5;32m \u001b[0m│\u001b[32m \u001b[0m\u001b[32m ['1', '2'] \u001b[0m\u001b[32m \u001b[0m│\u001b[38;5;162m \u001b[0m\u001b[38;5;162m<= \u001b[0m\u001b[38;5;162m \u001b[0m│\u001b[32m \u001b[0m\u001b[32m5 \u001b[0m\u001b[32m \u001b[0m│\n",
       "└───────────────────────┴──────────────┴─────┴────┘\n"
      ]
     },
     "metadata": {},
     "output_type": "display_data"
    },
    {
     "data": {
      "text/html": [
       "<pre style=\"white-space:pre;overflow-x:auto;line-height:normal;font-family:Menlo,'DejaVu Sans Mono',consolas,'Courier New',monospace\"><span style=\"font-style: italic\"> Preparación de datos </span>\n",
       "┏━━━━━━━━━━━━━━┳━━━━━┓\n",
       "┃<span style=\"font-weight: bold\"> A            </span>┃<span style=\"font-weight: bold\">   b </span>┃\n",
       "┡━━━━━━━━━━━━━━╇━━━━━┩\n",
       "│<span style=\"color: #0087d7; text-decoration-color: #0087d7\"> ['-2', '3']  </span>│<span style=\"color: #0087d7; text-decoration-color: #0087d7\">   3 </span>│\n",
       "│<span style=\"color: #0087d7; text-decoration-color: #0087d7\"> ['2', '-3']  </span>│<span style=\"color: #0087d7; text-decoration-color: #0087d7\">  -3 </span>│\n",
       "│<span style=\"color: #0087d7; text-decoration-color: #0087d7\"> ['-4', '-5'] </span>│<span style=\"color: #0087d7; text-decoration-color: #0087d7\"> -10 </span>│\n",
       "│<span style=\"color: #0087d7; text-decoration-color: #0087d7\"> ['1', '2']   </span>│<span style=\"color: #0087d7; text-decoration-color: #0087d7\">   5 </span>│\n",
       "├──────────────┼─────┤\n",
       "│<span style=\"color: #0087d7; text-decoration-color: #0087d7\"> ['-5', '-6'] </span>│<span style=\"color: #0087d7; text-decoration-color: #0087d7\">   0 </span>│\n",
       "└──────────────┴─────┘\n",
       "</pre>\n"
      ],
      "text/plain": [
       "\u001b[3m Preparación de datos \u001b[0m\n",
       "┏━━━━━━━━━━━━━━┳━━━━━┓\n",
       "┃\u001b[1m \u001b[0m\u001b[1mA           \u001b[0m\u001b[1m \u001b[0m┃\u001b[1m \u001b[0m\u001b[1m  b\u001b[0m\u001b[1m \u001b[0m┃\n",
       "┡━━━━━━━━━━━━━━╇━━━━━┩\n",
       "│\u001b[38;5;32m \u001b[0m\u001b[38;5;32m['-2', '3'] \u001b[0m\u001b[38;5;32m \u001b[0m│\u001b[38;5;32m \u001b[0m\u001b[38;5;32m  3\u001b[0m\u001b[38;5;32m \u001b[0m│\n",
       "│\u001b[38;5;32m \u001b[0m\u001b[38;5;32m['2', '-3'] \u001b[0m\u001b[38;5;32m \u001b[0m│\u001b[38;5;32m \u001b[0m\u001b[38;5;32m -3\u001b[0m\u001b[38;5;32m \u001b[0m│\n",
       "│\u001b[38;5;32m \u001b[0m\u001b[38;5;32m['-4', '-5']\u001b[0m\u001b[38;5;32m \u001b[0m│\u001b[38;5;32m \u001b[0m\u001b[38;5;32m-10\u001b[0m\u001b[38;5;32m \u001b[0m│\n",
       "│\u001b[38;5;32m \u001b[0m\u001b[38;5;32m['1', '2']  \u001b[0m\u001b[38;5;32m \u001b[0m│\u001b[38;5;32m \u001b[0m\u001b[38;5;32m  5\u001b[0m\u001b[38;5;32m \u001b[0m│\n",
       "├──────────────┼─────┤\n",
       "│\u001b[38;5;32m \u001b[0m\u001b[38;5;32m['-5', '-6']\u001b[0m\u001b[38;5;32m \u001b[0m│\u001b[38;5;32m \u001b[0m\u001b[38;5;32m  0\u001b[0m\u001b[38;5;32m \u001b[0m│\n",
       "└──────────────┴─────┘\n"
      ]
     },
     "metadata": {},
     "output_type": "display_data"
    },
    {
     "data": {
      "text/html": [
       "<pre style=\"white-space:pre;overflow-x:auto;line-height:normal;font-family:Menlo,'DejaVu Sans Mono',consolas,'Courier New',monospace\"><span style=\"font-style: italic\">          Resultados           </span>\n",
       "┏━━━━━━━━━━━┳━━━━━━━━━━━━━━━━━┓\n",
       "┃<span style=\"font-weight: bold\"> Variables </span>┃<span style=\"font-weight: bold\"> Valores óptimos </span>┃\n",
       "┡━━━━━━━━━━━╇━━━━━━━━━━━━━━━━━┩\n",
       "│<span style=\"color: #800080; text-decoration-color: #800080\">     z     </span>│<span style=\"color: #008000; text-decoration-color: #008000\"> 17.571429       </span>│\n",
       "│<span style=\"color: #800080; text-decoration-color: #800080\">    x1     </span>│<span style=\"color: #008000; text-decoration-color: #008000\"> 1.285714        </span>│\n",
       "│<span style=\"color: #800080; text-decoration-color: #800080\">    x2     </span>│<span style=\"color: #008000; text-decoration-color: #008000\"> 1.857143        </span>│\n",
       "└───────────┴─────────────────┘\n",
       "</pre>\n"
      ],
      "text/plain": [
       "\u001b[3m          Resultados           \u001b[0m\n",
       "┏━━━━━━━━━━━┳━━━━━━━━━━━━━━━━━┓\n",
       "┃\u001b[1m \u001b[0m\u001b[1mVariables\u001b[0m\u001b[1m \u001b[0m┃\u001b[1m \u001b[0m\u001b[1mValores óptimos\u001b[0m\u001b[1m \u001b[0m┃\n",
       "┡━━━━━━━━━━━╇━━━━━━━━━━━━━━━━━┩\n",
       "│\u001b[35m \u001b[0m\u001b[35m    z    \u001b[0m\u001b[35m \u001b[0m│\u001b[32m \u001b[0m\u001b[32m17.571429      \u001b[0m\u001b[32m \u001b[0m│\n",
       "│\u001b[35m \u001b[0m\u001b[35m   x1    \u001b[0m\u001b[35m \u001b[0m│\u001b[32m \u001b[0m\u001b[32m1.285714       \u001b[0m\u001b[32m \u001b[0m│\n",
       "│\u001b[35m \u001b[0m\u001b[35m   x2    \u001b[0m\u001b[35m \u001b[0m│\u001b[32m \u001b[0m\u001b[32m1.857143       \u001b[0m\u001b[32m \u001b[0m│\n",
       "└───────────┴─────────────────┘\n"
      ]
     },
     "metadata": {},
     "output_type": "display_data"
    }
   ],
   "source": [
    "simplex3 = Simplex(\n",
    "    numero_de_variables=2,\n",
    "    funcion_objetivo=FuncionObjetivo(\"z = 5*x1 + 6*x2\"),\n",
    "    metodo=Simplex.MAXIMIZAR,\n",
    "    restricciones=[\n",
    "        ExpresionAlgebraica(\"-2*x1 + 3*x2 = 3\"),\n",
    "        ExpresionAlgebraica(\"4*x1 + 5*x2 >= 10\"),\n",
    "        ExpresionAlgebraica(\"x1 + 2x2 <= 5\"),\n",
    "    ]\n",
    ")\n",
    "simplex3.resolver_problema()\n",
    "simplex3.mostrar_resultados()"
   ]
  },
  {
   "cell_type": "code",
   "execution_count": 8,
   "id": "21c9da8a",
   "metadata": {},
   "outputs": [
    {
     "data": {
      "text/html": [
       "<pre style=\"white-space:pre;overflow-x:auto;line-height:normal;font-family:Menlo,'DejaVu Sans Mono',consolas,'Courier New',monospace\"><span style=\"font-style: italic\">Maximizar </span><span style=\"color: #000087; text-decoration-color: #000087; font-style: italic\">z = - 5 * x1 + 2 * x2</span><span style=\"font-style: italic\">                   </span>\n",
       "┏━━━━━━━━━━━━━━━━━━━━━━┳━━━━━━━━━━━━━━┳━━━━━┳━━━━┓\n",
       "┃<span style=\"font-weight: bold\"> Restricciones        </span>┃<span style=\"font-weight: bold\"> ['x1', 'x2'] </span>┃<span style=\"font-weight: bold\"> &lt;=&gt; </span>┃<span style=\"font-weight: bold\"> b  </span>┃\n",
       "┡━━━━━━━━━━━━━━━━━━━━━━╇━━━━━━━━━━━━━━╇━━━━━╇━━━━┩\n",
       "│<span style=\"color: #0087d7; text-decoration-color: #0087d7\"> -x1 + x2 &lt;= -2       </span>│<span style=\"color: #008000; text-decoration-color: #008000\"> ['-1', '1']  </span>│<span style=\"color: #d70087; text-decoration-color: #d70087\"> &lt;=  </span>│<span style=\"color: #008000; text-decoration-color: #008000\"> -2 </span>│\n",
       "│<span style=\"color: #0087d7; text-decoration-color: #0087d7\"> 2 * x1 + 3 * x2 &lt;= 5 </span>│<span style=\"color: #008000; text-decoration-color: #008000\">  ['2', '3']  </span>│<span style=\"color: #d70087; text-decoration-color: #d70087\"> &lt;=  </span>│<span style=\"color: #008000; text-decoration-color: #008000\"> 5  </span>│\n",
       "└──────────────────────┴──────────────┴─────┴────┘\n",
       "</pre>\n"
      ],
      "text/plain": [
       "\u001b[3mMaximizar \u001b[0m\u001b[3;38;5;18mz = - 5 * x1 + 2 * x2\u001b[0m\u001b[3m                   \u001b[0m\n",
       "┏━━━━━━━━━━━━━━━━━━━━━━┳━━━━━━━━━━━━━━┳━━━━━┳━━━━┓\n",
       "┃\u001b[1m \u001b[0m\u001b[1mRestricciones       \u001b[0m\u001b[1m \u001b[0m┃\u001b[1m \u001b[0m\u001b[1m['x1', 'x2']\u001b[0m\u001b[1m \u001b[0m┃\u001b[1m \u001b[0m\u001b[1m<=>\u001b[0m\u001b[1m \u001b[0m┃\u001b[1m \u001b[0m\u001b[1mb \u001b[0m\u001b[1m \u001b[0m┃\n",
       "┡━━━━━━━━━━━━━━━━━━━━━━╇━━━━━━━━━━━━━━╇━━━━━╇━━━━┩\n",
       "│\u001b[38;5;32m \u001b[0m\u001b[38;5;32m-x1 + x2 <= -2      \u001b[0m\u001b[38;5;32m \u001b[0m│\u001b[32m \u001b[0m\u001b[32m['-1', '1'] \u001b[0m\u001b[32m \u001b[0m│\u001b[38;5;162m \u001b[0m\u001b[38;5;162m<= \u001b[0m\u001b[38;5;162m \u001b[0m│\u001b[32m \u001b[0m\u001b[32m-2\u001b[0m\u001b[32m \u001b[0m│\n",
       "│\u001b[38;5;32m \u001b[0m\u001b[38;5;32m2 * x1 + 3 * x2 <= 5\u001b[0m\u001b[38;5;32m \u001b[0m│\u001b[32m \u001b[0m\u001b[32m ['2', '3'] \u001b[0m\u001b[32m \u001b[0m│\u001b[38;5;162m \u001b[0m\u001b[38;5;162m<= \u001b[0m\u001b[38;5;162m \u001b[0m│\u001b[32m \u001b[0m\u001b[32m5 \u001b[0m\u001b[32m \u001b[0m│\n",
       "└──────────────────────┴──────────────┴─────┴────┘\n"
      ]
     },
     "metadata": {},
     "output_type": "display_data"
    },
    {
     "data": {
      "text/html": [
       "<pre style=\"white-space:pre;overflow-x:auto;line-height:normal;font-family:Menlo,'DejaVu Sans Mono',consolas,'Courier New',monospace\"><span style=\"font-style: italic\">Preparación de datos</span>\n",
       "┏━━━━━━━━━━━━━┳━━━━┓\n",
       "┃<span style=\"font-weight: bold\"> A           </span>┃<span style=\"font-weight: bold\">  b </span>┃\n",
       "┡━━━━━━━━━━━━━╇━━━━┩\n",
       "│<span style=\"color: #0087d7; text-decoration-color: #0087d7\"> ['-1', '1'] </span>│<span style=\"color: #0087d7; text-decoration-color: #0087d7\"> -2 </span>│\n",
       "│<span style=\"color: #0087d7; text-decoration-color: #0087d7\"> ['2', '3']  </span>│<span style=\"color: #0087d7; text-decoration-color: #0087d7\">  5 </span>│\n",
       "├─────────────┼────┤\n",
       "│<span style=\"color: #0087d7; text-decoration-color: #0087d7\"> ['5', '-2'] </span>│<span style=\"color: #0087d7; text-decoration-color: #0087d7\">  0 </span>│\n",
       "└─────────────┴────┘\n",
       "</pre>\n"
      ],
      "text/plain": [
       "\u001b[3mPreparación de datos\u001b[0m\n",
       "┏━━━━━━━━━━━━━┳━━━━┓\n",
       "┃\u001b[1m \u001b[0m\u001b[1mA          \u001b[0m\u001b[1m \u001b[0m┃\u001b[1m \u001b[0m\u001b[1m b\u001b[0m\u001b[1m \u001b[0m┃\n",
       "┡━━━━━━━━━━━━━╇━━━━┩\n",
       "│\u001b[38;5;32m \u001b[0m\u001b[38;5;32m['-1', '1']\u001b[0m\u001b[38;5;32m \u001b[0m│\u001b[38;5;32m \u001b[0m\u001b[38;5;32m-2\u001b[0m\u001b[38;5;32m \u001b[0m│\n",
       "│\u001b[38;5;32m \u001b[0m\u001b[38;5;32m['2', '3'] \u001b[0m\u001b[38;5;32m \u001b[0m│\u001b[38;5;32m \u001b[0m\u001b[38;5;32m 5\u001b[0m\u001b[38;5;32m \u001b[0m│\n",
       "├─────────────┼────┤\n",
       "│\u001b[38;5;32m \u001b[0m\u001b[38;5;32m['5', '-2']\u001b[0m\u001b[38;5;32m \u001b[0m│\u001b[38;5;32m \u001b[0m\u001b[38;5;32m 0\u001b[0m\u001b[38;5;32m \u001b[0m│\n",
       "└─────────────┴────┘\n"
      ]
     },
     "metadata": {},
     "output_type": "display_data"
    },
    {
     "data": {
      "text/html": [
       "<pre style=\"white-space:pre;overflow-x:auto;line-height:normal;font-family:Menlo,'DejaVu Sans Mono',consolas,'Courier New',monospace\"><span style=\"font-style: italic\">          Resultados           </span>\n",
       "┏━━━━━━━━━━━┳━━━━━━━━━━━━━━━━━┓\n",
       "┃<span style=\"font-weight: bold\"> Variables </span>┃<span style=\"font-weight: bold\"> Valores óptimos </span>┃\n",
       "┡━━━━━━━━━━━╇━━━━━━━━━━━━━━━━━┩\n",
       "│<span style=\"color: #800080; text-decoration-color: #800080\">     z     </span>│<span style=\"color: #008000; text-decoration-color: #008000\"> -1E+1           </span>│\n",
       "│<span style=\"color: #800080; text-decoration-color: #800080\">    x1     </span>│<span style=\"color: #008000; text-decoration-color: #008000\"> 2               </span>│\n",
       "│<span style=\"color: #800080; text-decoration-color: #800080\">    x2     </span>│<span style=\"color: #008000; text-decoration-color: #008000\"> 0               </span>│\n",
       "└───────────┴─────────────────┘\n",
       "</pre>\n"
      ],
      "text/plain": [
       "\u001b[3m          Resultados           \u001b[0m\n",
       "┏━━━━━━━━━━━┳━━━━━━━━━━━━━━━━━┓\n",
       "┃\u001b[1m \u001b[0m\u001b[1mVariables\u001b[0m\u001b[1m \u001b[0m┃\u001b[1m \u001b[0m\u001b[1mValores óptimos\u001b[0m\u001b[1m \u001b[0m┃\n",
       "┡━━━━━━━━━━━╇━━━━━━━━━━━━━━━━━┩\n",
       "│\u001b[35m \u001b[0m\u001b[35m    z    \u001b[0m\u001b[35m \u001b[0m│\u001b[32m \u001b[0m\u001b[32m-1E+1          \u001b[0m\u001b[32m \u001b[0m│\n",
       "│\u001b[35m \u001b[0m\u001b[35m   x1    \u001b[0m\u001b[35m \u001b[0m│\u001b[32m \u001b[0m\u001b[32m2              \u001b[0m\u001b[32m \u001b[0m│\n",
       "│\u001b[35m \u001b[0m\u001b[35m   x2    \u001b[0m\u001b[35m \u001b[0m│\u001b[32m \u001b[0m\u001b[32m0              \u001b[0m\u001b[32m \u001b[0m│\n",
       "└───────────┴─────────────────┘\n"
      ]
     },
     "metadata": {},
     "output_type": "display_data"
    }
   ],
   "source": [
    "simplex = Simplex(\n",
    "    numero_de_variables=2,\n",
    "    funcion_objetivo=FuncionObjetivo(\"z = -5*x1 + 2*x2\"),\n",
    "    metodo=Simplex.MAXIMIZAR,\n",
    "    restricciones=[\n",
    "        ExpresionAlgebraica(\"-x1 + x2 <= -2\"),\n",
    "        ExpresionAlgebraica(\"2x1 + 3x2 <= 5\"),\n",
    "    ]\n",
    ")\n",
    "simplex.resolver_problema()\n",
    "simplex.mostrar_resultados()"
   ]
  },
  {
   "cell_type": "code",
   "execution_count": 9,
   "id": "0bbbf8c2",
   "metadata": {},
   "outputs": [
    {
     "data": {
      "text/html": [
       "<pre style=\"white-space:pre;overflow-x:auto;line-height:normal;font-family:Menlo,'DejaVu Sans Mono',consolas,'Courier New',monospace\"><span style=\"font-style: italic\">Maximizar </span><span style=\"color: #000087; text-decoration-color: #000087; font-style: italic\">z = 8 * x1 + 12 * x2</span><span style=\"font-style: italic\">                             </span>\n",
       "┏━━━━━━━━━━━━━━━━━━━━━━━━━━━━┳━━━━━━━━━━━━━━┳━━━━━┳━━━━━━━┓\n",
       "┃<span style=\"font-weight: bold\"> Restricciones              </span>┃<span style=\"font-weight: bold\"> ['x1', 'x2'] </span>┃<span style=\"font-weight: bold\"> &lt;=&gt; </span>┃<span style=\"font-weight: bold\">   b   </span>┃\n",
       "┡━━━━━━━━━━━━━━━━━━━━━━━━━━━━╇━━━━━━━━━━━━━━╇━━━━━╇━━━━━━━┩\n",
       "│<span style=\"color: #0087d7; text-decoration-color: #0087d7\"> 20 * x1 + 60 * x2 &lt;= 12000 </span>│<span style=\"color: #008000; text-decoration-color: #008000\"> ['20', '60'] </span>│<span style=\"color: #d70087; text-decoration-color: #d70087\"> &lt;=  </span>│<span style=\"color: #008000; text-decoration-color: #008000\"> 12000 </span>│\n",
       "│<span style=\"color: #0087d7; text-decoration-color: #0087d7\"> 70 * x1 + 60 * x2 &lt;= 16800 </span>│<span style=\"color: #008000; text-decoration-color: #008000\"> ['70', '60'] </span>│<span style=\"color: #d70087; text-decoration-color: #d70087\"> &lt;=  </span>│<span style=\"color: #008000; text-decoration-color: #008000\"> 16800 </span>│\n",
       "│<span style=\"color: #0087d7; text-decoration-color: #0087d7\"> 12 * x1 + 4 * x2 &lt;= 2400   </span>│<span style=\"color: #008000; text-decoration-color: #008000\"> ['12', '4']  </span>│<span style=\"color: #d70087; text-decoration-color: #d70087\"> &lt;=  </span>│<span style=\"color: #008000; text-decoration-color: #008000\"> 2400  </span>│\n",
       "└────────────────────────────┴──────────────┴─────┴───────┘\n",
       "</pre>\n"
      ],
      "text/plain": [
       "\u001b[3mMaximizar \u001b[0m\u001b[3;38;5;18mz = 8 * x1 + 12 * x2\u001b[0m\u001b[3m                             \u001b[0m\n",
       "┏━━━━━━━━━━━━━━━━━━━━━━━━━━━━┳━━━━━━━━━━━━━━┳━━━━━┳━━━━━━━┓\n",
       "┃\u001b[1m \u001b[0m\u001b[1mRestricciones             \u001b[0m\u001b[1m \u001b[0m┃\u001b[1m \u001b[0m\u001b[1m['x1', 'x2']\u001b[0m\u001b[1m \u001b[0m┃\u001b[1m \u001b[0m\u001b[1m<=>\u001b[0m\u001b[1m \u001b[0m┃\u001b[1m \u001b[0m\u001b[1m  b  \u001b[0m\u001b[1m \u001b[0m┃\n",
       "┡━━━━━━━━━━━━━━━━━━━━━━━━━━━━╇━━━━━━━━━━━━━━╇━━━━━╇━━━━━━━┩\n",
       "│\u001b[38;5;32m \u001b[0m\u001b[38;5;32m20 * x1 + 60 * x2 <= 12000\u001b[0m\u001b[38;5;32m \u001b[0m│\u001b[32m \u001b[0m\u001b[32m['20', '60']\u001b[0m\u001b[32m \u001b[0m│\u001b[38;5;162m \u001b[0m\u001b[38;5;162m<= \u001b[0m\u001b[38;5;162m \u001b[0m│\u001b[32m \u001b[0m\u001b[32m12000\u001b[0m\u001b[32m \u001b[0m│\n",
       "│\u001b[38;5;32m \u001b[0m\u001b[38;5;32m70 * x1 + 60 * x2 <= 16800\u001b[0m\u001b[38;5;32m \u001b[0m│\u001b[32m \u001b[0m\u001b[32m['70', '60']\u001b[0m\u001b[32m \u001b[0m│\u001b[38;5;162m \u001b[0m\u001b[38;5;162m<= \u001b[0m\u001b[38;5;162m \u001b[0m│\u001b[32m \u001b[0m\u001b[32m16800\u001b[0m\u001b[32m \u001b[0m│\n",
       "│\u001b[38;5;32m \u001b[0m\u001b[38;5;32m12 * x1 + 4 * x2 <= 2400  \u001b[0m\u001b[38;5;32m \u001b[0m│\u001b[32m \u001b[0m\u001b[32m['12', '4'] \u001b[0m\u001b[32m \u001b[0m│\u001b[38;5;162m \u001b[0m\u001b[38;5;162m<= \u001b[0m\u001b[38;5;162m \u001b[0m│\u001b[32m \u001b[0m\u001b[32m2400 \u001b[0m\u001b[32m \u001b[0m│\n",
       "└────────────────────────────┴──────────────┴─────┴───────┘\n"
      ]
     },
     "metadata": {},
     "output_type": "display_data"
    },
    {
     "data": {
      "text/html": [
       "<pre style=\"white-space:pre;overflow-x:auto;line-height:normal;font-family:Menlo,'DejaVu Sans Mono',consolas,'Courier New',monospace\"><span style=\"font-style: italic\">  Preparación de datos   </span>\n",
       "┏━━━━━━━━━━━━━━━┳━━━━━━━┓\n",
       "┃<span style=\"font-weight: bold\"> A             </span>┃<span style=\"font-weight: bold\">     b </span>┃\n",
       "┡━━━━━━━━━━━━━━━╇━━━━━━━┩\n",
       "│<span style=\"color: #0087d7; text-decoration-color: #0087d7\"> ['20', '60']  </span>│<span style=\"color: #0087d7; text-decoration-color: #0087d7\"> 12000 </span>│\n",
       "│<span style=\"color: #0087d7; text-decoration-color: #0087d7\"> ['70', '60']  </span>│<span style=\"color: #0087d7; text-decoration-color: #0087d7\"> 16800 </span>│\n",
       "│<span style=\"color: #0087d7; text-decoration-color: #0087d7\"> ['12', '4']   </span>│<span style=\"color: #0087d7; text-decoration-color: #0087d7\">  2400 </span>│\n",
       "├───────────────┼───────┤\n",
       "│<span style=\"color: #0087d7; text-decoration-color: #0087d7\"> ['-8', '-12'] </span>│<span style=\"color: #0087d7; text-decoration-color: #0087d7\">     0 </span>│\n",
       "└───────────────┴───────┘\n",
       "</pre>\n"
      ],
      "text/plain": [
       "\u001b[3m  Preparación de datos   \u001b[0m\n",
       "┏━━━━━━━━━━━━━━━┳━━━━━━━┓\n",
       "┃\u001b[1m \u001b[0m\u001b[1mA            \u001b[0m\u001b[1m \u001b[0m┃\u001b[1m \u001b[0m\u001b[1m    b\u001b[0m\u001b[1m \u001b[0m┃\n",
       "┡━━━━━━━━━━━━━━━╇━━━━━━━┩\n",
       "│\u001b[38;5;32m \u001b[0m\u001b[38;5;32m['20', '60'] \u001b[0m\u001b[38;5;32m \u001b[0m│\u001b[38;5;32m \u001b[0m\u001b[38;5;32m12000\u001b[0m\u001b[38;5;32m \u001b[0m│\n",
       "│\u001b[38;5;32m \u001b[0m\u001b[38;5;32m['70', '60'] \u001b[0m\u001b[38;5;32m \u001b[0m│\u001b[38;5;32m \u001b[0m\u001b[38;5;32m16800\u001b[0m\u001b[38;5;32m \u001b[0m│\n",
       "│\u001b[38;5;32m \u001b[0m\u001b[38;5;32m['12', '4']  \u001b[0m\u001b[38;5;32m \u001b[0m│\u001b[38;5;32m \u001b[0m\u001b[38;5;32m 2400\u001b[0m\u001b[38;5;32m \u001b[0m│\n",
       "├───────────────┼───────┤\n",
       "│\u001b[38;5;32m \u001b[0m\u001b[38;5;32m['-8', '-12']\u001b[0m\u001b[38;5;32m \u001b[0m│\u001b[38;5;32m \u001b[0m\u001b[38;5;32m    0\u001b[0m\u001b[38;5;32m \u001b[0m│\n",
       "└───────────────┴───────┘\n"
      ]
     },
     "metadata": {},
     "output_type": "display_data"
    },
    {
     "data": {
      "text/html": [
       "<pre style=\"white-space:pre;overflow-x:auto;line-height:normal;font-family:Menlo,'DejaVu Sans Mono',consolas,'Courier New',monospace\"><span style=\"font-style: italic\">          Resultados           </span>\n",
       "┏━━━━━━━━━━━┳━━━━━━━━━━━━━━━━━┓\n",
       "┃<span style=\"font-weight: bold\"> Variables </span>┃<span style=\"font-weight: bold\"> Valores óptimos </span>┃\n",
       "┡━━━━━━━━━━━╇━━━━━━━━━━━━━━━━━┩\n",
       "│<span style=\"color: #800080; text-decoration-color: #800080\">     z     </span>│<span style=\"color: #008000; text-decoration-color: #008000\"> 2784            </span>│\n",
       "│<span style=\"color: #800080; text-decoration-color: #800080\">    x1     </span>│<span style=\"color: #008000; text-decoration-color: #008000\"> 96              </span>│\n",
       "│<span style=\"color: #800080; text-decoration-color: #800080\">    x2     </span>│<span style=\"color: #008000; text-decoration-color: #008000\"> 168             </span>│\n",
       "└───────────┴─────────────────┘\n",
       "</pre>\n"
      ],
      "text/plain": [
       "\u001b[3m          Resultados           \u001b[0m\n",
       "┏━━━━━━━━━━━┳━━━━━━━━━━━━━━━━━┓\n",
       "┃\u001b[1m \u001b[0m\u001b[1mVariables\u001b[0m\u001b[1m \u001b[0m┃\u001b[1m \u001b[0m\u001b[1mValores óptimos\u001b[0m\u001b[1m \u001b[0m┃\n",
       "┡━━━━━━━━━━━╇━━━━━━━━━━━━━━━━━┩\n",
       "│\u001b[35m \u001b[0m\u001b[35m    z    \u001b[0m\u001b[35m \u001b[0m│\u001b[32m \u001b[0m\u001b[32m2784           \u001b[0m\u001b[32m \u001b[0m│\n",
       "│\u001b[35m \u001b[0m\u001b[35m   x1    \u001b[0m\u001b[35m \u001b[0m│\u001b[32m \u001b[0m\u001b[32m96             \u001b[0m\u001b[32m \u001b[0m│\n",
       "│\u001b[35m \u001b[0m\u001b[35m   x2    \u001b[0m\u001b[35m \u001b[0m│\u001b[32m \u001b[0m\u001b[32m168            \u001b[0m\u001b[32m \u001b[0m│\n",
       "└───────────┴─────────────────┘\n"
      ]
     },
     "metadata": {},
     "output_type": "display_data"
    }
   ],
   "source": [
    "simplex = Simplex(\n",
    "    numero_de_variables=2,\n",
    "    funcion_objetivo=FuncionObjetivo(\"z = 8x1 + 12x2\"),\n",
    "    metodo=Simplex.MAXIMIZAR,\n",
    "    restricciones=[\n",
    "        ExpresionAlgebraica(\"20x1 + 60x2 <= 12000\"),\n",
    "        ExpresionAlgebraica(\"70x1 + 60x2  <= 16800\"),\n",
    "        ExpresionAlgebraica(\"12x1 + 4x2 <= 2400\"),\n",
    "    ]\n",
    ")\n",
    "simplex.resolver_problema()\n",
    "simplex.mostrar_resultados()"
   ]
  }
 ],
 "metadata": {
  "kernelspec": {
   "display_name": "Python 3 (ipykernel)",
   "language": "python",
   "name": "python3"
  },
  "language_info": {
   "codemirror_mode": {
    "name": "ipython",
    "version": 3
   },
   "file_extension": ".py",
   "mimetype": "text/x-python",
   "name": "python",
   "nbconvert_exporter": "python",
   "pygments_lexer": "ipython3",
   "version": "3.11.2"
  }
 },
 "nbformat": 4,
 "nbformat_minor": 5
}
